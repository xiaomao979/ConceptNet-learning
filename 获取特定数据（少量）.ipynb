{
 "cells": [
  {
   "cell_type": "markdown",
   "metadata": {},
   "source": [
    "# 使用request库"
   ]
  },
  {
   "cell_type": "code",
   "execution_count": 6,
   "metadata": {},
   "outputs": [],
   "source": [
    "import requests"
   ]
  },
  {
   "cell_type": "markdown",
   "metadata": {},
   "source": [
    "# 爬取链接 http://api.conceptnet.io + 后缀\n",
    "\n",
    "- /c/: concepts, also known as terms (words and phrases in a particular language)\n",
    "- /a/: assertions, also known as edges\n",
    "- /r/: language-independent relations, such as /r/IsA\n",
    "- /s/: knowledge sources, which can be human contributors, Web sites, or automated processes\n",
    "- /and/: conjunctions of sources that were used together to create an assertion\n",
    "- /d/: datasets (broad sources of knowledge)"
   ]
  },
  {
   "cell_type": "markdown",
   "metadata": {},
   "source": [
    "## /c/示例"
   ]
  },
  {
   "cell_type": "markdown",
   "metadata": {},
   "source": [
    "### common_sense"
   ]
  },
  {
   "cell_type": "code",
   "execution_count": 76,
   "metadata": {},
   "outputs": [
    {
     "data": {
      "text/plain": [
       "20"
      ]
     },
     "execution_count": 76,
     "metadata": {},
     "output_type": "execute_result"
    }
   ],
   "source": [
    "obj = requests.get('http://api.conceptnet.io/c/en/common_sense').json()\n",
    "len(obj['edges'])"
   ]
  },
  {
   "cell_type": "code",
   "execution_count": 77,
   "metadata": {},
   "outputs": [
    {
     "data": {
      "text/plain": [
       "{'@id': '/a/[/r/Synonym/,/c/ja/共通認識/n/,/c/en/common_sense/]',\n",
       " '@type': 'Edge',\n",
       " 'dataset': '/d/jmdict',\n",
       " 'end': {'@id': '/c/en/common_sense',\n",
       "  '@type': 'Node',\n",
       "  'label': 'common sense',\n",
       "  'language': 'en',\n",
       "  'term': '/c/en/common_sense'},\n",
       " 'license': 'cc:by-sa/4.0',\n",
       " 'rel': {'@id': '/r/Synonym', '@type': 'Relation', 'label': 'Synonym'},\n",
       " 'sources': [{'@id': '/s/resource/jmdict/1.07',\n",
       "   '@type': 'Source',\n",
       "   'contributor': '/s/resource/jmdict/1.07'}],\n",
       " 'start': {'@id': '/c/ja/共通認識/n',\n",
       "  '@type': 'Node',\n",
       "  'label': '共通認識',\n",
       "  'language': 'ja',\n",
       "  'sense_label': 'n',\n",
       "  'term': '/c/ja/共通認識'},\n",
       " 'surfaceText': None,\n",
       " 'weight': 2.0}"
      ]
     },
     "execution_count": 77,
     "metadata": {},
     "output_type": "execute_result"
    }
   ],
   "source": [
    "obj['edges'][0]"
   ]
  },
  {
   "cell_type": "code",
   "execution_count": 78,
   "metadata": {},
   "outputs": [
    {
     "data": {
      "text/plain": [
       "[['Synonym', '共通認識', 'common sense', 2.0],\n",
       " ['Synonym', 'コモンセンス', 'common sense', 2.0],\n",
       " ['Synonym', 'sen on', 'common sense', 2.0],\n",
       " ['IsA', 'road sense', 'common sense', 2.0],\n",
       " ['Synonym', 'fornuft', 'common sense', 2.0],\n",
       " ['Synonym', 'حس عام', 'common sense', 2.0],\n",
       " ['Synonym', 'äly', 'common sense', 2.0],\n",
       " ['Synonym', 'good sense', 'common sense', 2.0],\n",
       " ['Synonym', 'sensatezza', 'common sense', 2.0],\n",
       " ['Synonym', '常識', 'common sense', 2.0],\n",
       " ['Synonym', 'コモンセンス', 'common sense', 2.0],\n",
       " ['Synonym', 'sense', 'common sense', 2.0],\n",
       " ['Synonym', 'seny', 'common sense', 2.0],\n",
       " ['Synonym', 'criterio', 'common sense', 2.0],\n",
       " ['Synonym', 'sentit', 'common sense', 2.0],\n",
       " ['Synonym', 'discernimento', 'common sense', 2.0],\n",
       " ['Synonym', '共通感覚', 'common sense', 2.0],\n",
       " ['Synonym', 'fikiran waras', 'common sense', 2.0],\n",
       " ['Synonym', 'sentit comú', 'common sense', 2.0],\n",
       " ['Synonym', 'assennatezza', 'common sense', 2.0]]"
      ]
     },
     "execution_count": 78,
     "metadata": {},
     "output_type": "execute_result"
    }
   ],
   "source": [
    "lineslist = []\n",
    "for i in range(len(obj['edges'])):\n",
    "    ls = []\n",
    "    ls.append(obj['edges'][i]['rel']['label'])\n",
    "    ls.append(obj['edges'][i]['start']['label'])\n",
    "    ls.append(obj['edges'][i]['end']['label'])\n",
    "    ls.append(obj['edges'][i]['weight'])\n",
    "    lineslist.append(ls)\n",
    "    \n",
    "lineslist"
   ]
  },
  {
   "cell_type": "markdown",
   "metadata": {},
   "source": [
    "### play_game"
   ]
  },
  {
   "cell_type": "markdown",
   "metadata": {},
   "source": [
    "空格用下划线代替"
   ]
  },
  {
   "cell_type": "code",
   "execution_count": 80,
   "metadata": {},
   "outputs": [
    {
     "data": {
      "text/plain": [
       "20"
      ]
     },
     "execution_count": 80,
     "metadata": {},
     "output_type": "execute_result"
    }
   ],
   "source": [
    "obj = requests.get('http://api.conceptnet.io/c/en/play_game').json()\n",
    "len(obj['edges'])"
   ]
  },
  {
   "cell_type": "code",
   "execution_count": 81,
   "metadata": {},
   "outputs": [
    {
     "data": {
      "text/plain": [
       "{'@id': '/a/[/r/MotivatedByGoal/,/c/en/play_game/,/c/en/fun/]',\n",
       " '@type': 'Edge',\n",
       " 'dataset': '/d/conceptnet/4/en',\n",
       " 'end': {'@id': '/c/en/fun',\n",
       "  '@type': 'Node',\n",
       "  'label': 'some fun',\n",
       "  'language': 'en',\n",
       "  'term': '/c/en/fun'},\n",
       " 'license': 'cc:by/4.0',\n",
       " 'rel': {'@id': '/r/MotivatedByGoal',\n",
       "  '@type': 'Relation',\n",
       "  'label': 'MotivatedByGoal'},\n",
       " 'sources': [{'@id': '/and/[/s/activity/omcs/omcs1_possibly_free_text/,/s/contributor/omcs/fiona/]',\n",
       "   '@type': 'Source',\n",
       "   'activity': '/s/activity/omcs/omcs1_possibly_free_text',\n",
       "   'contributor': '/s/contributor/omcs/fiona'},\n",
       "  {'@id': '/and/[/s/activity/omcs/omcs1_possibly_free_text/,/s/contributor/omcs/matthewd/]',\n",
       "   '@type': 'Source',\n",
       "   'activity': '/s/activity/omcs/omcs1_possibly_free_text',\n",
       "   'contributor': '/s/contributor/omcs/matthewd'},\n",
       "  {'@id': '/and/[/s/activity/omcs/vote/,/s/contributor/omcs/ajnewbold/]',\n",
       "   '@type': 'Source',\n",
       "   'activity': '/s/activity/omcs/vote',\n",
       "   'contributor': '/s/contributor/omcs/ajnewbold'},\n",
       "  {'@id': '/and/[/s/activity/omcs/vote/,/s/contributor/omcs/jake512/]',\n",
       "   '@type': 'Source',\n",
       "   'activity': '/s/activity/omcs/vote',\n",
       "   'contributor': '/s/contributor/omcs/jake512'},\n",
       "  {'@id': '/and/[/s/activity/omcs/vote/,/s/contributor/omcs/michellegrauf/]',\n",
       "   '@type': 'Source',\n",
       "   'activity': '/s/activity/omcs/vote',\n",
       "   'contributor': '/s/contributor/omcs/michellegrauf'}],\n",
       " 'start': {'@id': '/c/en/play_game',\n",
       "  '@type': 'Node',\n",
       "  'label': 'play a game',\n",
       "  'language': 'en',\n",
       "  'term': '/c/en/play_game'},\n",
       " 'surfaceText': 'You would [[play a game]] because you want [[some fun]]',\n",
       " 'weight': 4.0}"
      ]
     },
     "execution_count": 81,
     "metadata": {},
     "output_type": "execute_result"
    }
   ],
   "source": [
    "obj['edges'][0]"
   ]
  },
  {
   "cell_type": "code",
   "execution_count": 82,
   "metadata": {},
   "outputs": [
    {
     "data": {
      "text/plain": [
       "[['MotivatedByGoal', 'play a game', 'some fun', 4.0],\n",
       " ['CapableOf', 'Children', 'play a game', 4.0],\n",
       " ['HasPrerequisite', 'play a game', 'learn the rules', 4.0],\n",
       " ['CausesDesire', 'being bored', 'play a game', 3.4641016151377544],\n",
       " ['HasPrerequisite', 'have fun', 'play a game', 3.4641016151377544],\n",
       " ['HasPrerequisite', 'play a game', 'have a game to play', 2.82842712474619],\n",
       " ['HasPrerequisite',\n",
       "  'play a game',\n",
       "  'find someone to play with',\n",
       "  2.82842712474619],\n",
       " ['HasSubevent', 'play a game', 'have fun', 2.82842712474619],\n",
       " ['HasPrerequisite', 'play a game', 'know the rules', 2.82842712474619],\n",
       " ['HasPrerequisite', 'play a game', 'find an opponent', 2.0],\n",
       " ['HasPrerequisite', 'play a game', 'have a ball', 2.0],\n",
       " ['HasPrerequisite', 'play a game', 'prepare', 2.0],\n",
       " ['MotivatedByGoal', 'play a game', 'win', 2.0],\n",
       " ['HasSubevent', 'play a game', 'compete', 2.0],\n",
       " ['CausesDesire', 'being a child', 'play a game', 2.0],\n",
       " ['MotivatedByGoal', 'play a game', 'relax', 2.0],\n",
       " ['CausesDesire', 'Boredom', 'play a game', 2.0],\n",
       " ['HasPrerequisite', 'play cards', 'play a game', 2.0],\n",
       " ['MotivatedByGoal', 'play a game', 'amusement', 1.0],\n",
       " ['HasSubevent', 'are bored', 'play a game', 1.0]]"
      ]
     },
     "execution_count": 82,
     "metadata": {},
     "output_type": "execute_result"
    }
   ],
   "source": [
    "lineslist = []\n",
    "for i in range(len(obj['edges'])):\n",
    "    ls = []\n",
    "    ls.append(obj['edges'][i]['rel']['label'])\n",
    "    ls.append(obj['edges'][i]['start']['label'])\n",
    "    ls.append(obj['edges'][i]['end']['label'])\n",
    "    ls.append(obj['edges'][i]['weight'])\n",
    "    lineslist.append(ls)\n",
    "    \n",
    "lineslist"
   ]
  },
  {
   "cell_type": "markdown",
   "metadata": {},
   "source": [
    "### 动词read"
   ]
  },
  {
   "cell_type": "markdown",
   "metadata": {},
   "source": [
    "- /n: NOUN名词\n",
    "- /v: VERB动词\n",
    "- /a: ADJECTIVE形容词\n",
    "- /s: ADJECTIVE SATELLITE\n",
    "- /r: ADVERB副词"
   ]
  },
  {
   "cell_type": "code",
   "execution_count": 83,
   "metadata": {},
   "outputs": [
    {
     "data": {
      "text/plain": [
       "20"
      ]
     },
     "execution_count": 83,
     "metadata": {},
     "output_type": "execute_result"
    }
   ],
   "source": [
    "obj = requests.get('http://api.conceptnet.io/c/en/read/v').json()\n",
    "len(obj['edges'])"
   ]
  },
  {
   "cell_type": "code",
   "execution_count": 84,
   "metadata": {},
   "outputs": [
    {
     "data": {
      "text/plain": [
       "{'@id': '/a/[/r/Synonym/,/c/ca/examinar/v/wn/cognition/,/c/en/read/v/wn/cognition/]',\n",
       " '@type': 'Edge',\n",
       " 'dataset': '/d/wordnet/3.1',\n",
       " 'end': {'@id': '/c/en/read/v/wn/cognition',\n",
       "  '@type': 'Node',\n",
       "  'label': 'read',\n",
       "  'language': 'en',\n",
       "  'sense_label': 'v, cognition',\n",
       "  'term': '/c/en/read'},\n",
       " 'license': 'cc:by/4.0',\n",
       " 'rel': {'@id': '/r/Synonym', '@type': 'Relation', 'label': 'Synonym'},\n",
       " 'sources': [{'@id': '/s/resource/wordnet/rdf/3.1',\n",
       "   '@type': 'Source',\n",
       "   'contributor': '/s/resource/wordnet/rdf/3.1'}],\n",
       " 'start': {'@id': '/c/ca/examinar/v/wn/cognition',\n",
       "  '@type': 'Node',\n",
       "  'label': 'examinar',\n",
       "  'language': 'ca',\n",
       "  'sense_label': 'v, cognition',\n",
       "  'term': '/c/ca/examinar'},\n",
       " 'surfaceText': '[[examinar]] is a translation of [[read]]',\n",
       " 'weight': 2.0}"
      ]
     },
     "execution_count": 84,
     "metadata": {},
     "output_type": "execute_result"
    }
   ],
   "source": [
    "obj['edges'][0]"
   ]
  },
  {
   "cell_type": "code",
   "execution_count": 85,
   "metadata": {},
   "outputs": [
    {
     "data": {
      "text/plain": [
       "[['Synonym', 'examinar', 'read', 2.0],\n",
       " ['Synonym', '読み取り+する', 'read', 2.0],\n",
       " ['Synonym', 'อ่านข้อมูล', 'read', 2.0],\n",
       " ['Synonym', 'membacakan', 'read', 2.0],\n",
       " ['Synonym', 'lexoj', 'read', 2.0],\n",
       " ['Synonym', 'mengatakan', 'read', 2.0],\n",
       " ['MannerOf', 'read', 'have', 2.0],\n",
       " ['MannerOf', 'read', 'predict', 2.0],\n",
       " ['MannerOf', 'scry', 'read', 2.0],\n",
       " ['Synonym', 'proclamar', 'read', 2.0],\n",
       " ['MannerOf', 'call', 'read', 2.0],\n",
       " ['Synonym', 'memperlihatkan', 'read', 2.0],\n",
       " ['Synonym', '書見+する', 'read', 2.0],\n",
       " ['Synonym', 'membaca', 'read', 2.0],\n",
       " ['Synonym', 'segnare', 'read', 2.0],\n",
       " ['Synonym', 'goraki irakurri', 'read', 2.0],\n",
       " ['Synonym', 'selittää', 'read', 2.0],\n",
       " ['Synonym', 'mentafsirkan', 'read', 2.0],\n",
       " ['Synonym', 'menampakkan', 'read', 2.0],\n",
       " ['Synonym', 'ler', 'read', 2.0]]"
      ]
     },
     "execution_count": 85,
     "metadata": {},
     "output_type": "execute_result"
    }
   ],
   "source": [
    "lineslist = []\n",
    "for i in range(len(obj['edges'])):\n",
    "    ls = []\n",
    "    ls.append(obj['edges'][i]['rel']['label'])\n",
    "    ls.append(obj['edges'][i]['start']['label'])\n",
    "    ls.append(obj['edges'][i]['end']['label'])\n",
    "    ls.append(obj['edges'][i]['weight'])\n",
    "    lineslist.append(ls)\n",
    "    \n",
    "lineslist"
   ]
  },
  {
   "cell_type": "markdown",
   "metadata": {},
   "source": [
    "###  中文‘纸’"
   ]
  },
  {
   "cell_type": "code",
   "execution_count": 89,
   "metadata": {},
   "outputs": [
    {
     "data": {
      "text/plain": [
       "20"
      ]
     },
     "execution_count": 89,
     "metadata": {},
     "output_type": "execute_result"
    }
   ],
   "source": [
    "obj = requests.get('http://api.conceptnet.io/c/ja/紙').json()\n",
    "len(obj['edges'])"
   ]
  },
  {
   "cell_type": "code",
   "execution_count": 90,
   "metadata": {},
   "outputs": [
    {
     "data": {
      "text/plain": [
       "{'@id': '/a/[/r/HasProperty/,/c/ja/紙/,/c/ja/薄い/]',\n",
       " '@type': 'Edge',\n",
       " 'dataset': '/d/conceptnet/4/ja',\n",
       " 'end': {'@id': '/c/ja/薄い',\n",
       "  '@type': 'Node',\n",
       "  'label': '薄い',\n",
       "  'language': 'ja',\n",
       "  'term': '/c/ja/薄い'},\n",
       " 'license': 'cc:by/4.0',\n",
       " 'rel': {'@id': '/r/HasProperty', '@type': 'Relation', 'label': 'HasProperty'},\n",
       " 'sources': [{'@id': '/and/[/s/activity/omcs/nadya.jp/,/s/contributor/omcs/nadyajp_guest_37/]',\n",
       "   '@type': 'Source',\n",
       "   'activity': '/s/activity/omcs/nadya.jp',\n",
       "   'contributor': '/s/contributor/omcs/nadyajp_guest_37'},\n",
       "  {'@id': '/and/[/s/activity/omcs/nadya.jp/,/s/contributor/omcs/nadyajp_guest_49/]',\n",
       "   '@type': 'Source',\n",
       "   'activity': '/s/activity/omcs/nadya.jp',\n",
       "   'contributor': '/s/contributor/omcs/nadyajp_guest_49'},\n",
       "  {'@id': '/and/[/s/activity/omcs/nadya.jp/,/s/contributor/omcs/nadyajp_guest_57/]',\n",
       "   '@type': 'Source',\n",
       "   'activity': '/s/activity/omcs/nadya.jp',\n",
       "   'contributor': '/s/contributor/omcs/nadyajp_guest_57'},\n",
       "  {'@id': '/and/[/s/activity/omcs/nadya.jp/,/s/contributor/omcs/nadyajp_guest_61/]',\n",
       "   '@type': 'Source',\n",
       "   'activity': '/s/activity/omcs/nadya.jp',\n",
       "   'contributor': '/s/contributor/omcs/nadyajp_guest_61'},\n",
       "  {'@id': '/and/[/s/activity/omcs/nadya.jp/,/s/contributor/omcs/nadyajp_guest_68/]',\n",
       "   '@type': 'Source',\n",
       "   'activity': '/s/activity/omcs/nadya.jp',\n",
       "   'contributor': '/s/contributor/omcs/nadyajp_guest_68'},\n",
       "  {'@id': '/and/[/s/activity/omcs/nadya.jp/,/s/contributor/omcs/nadyajp_guest_7/]',\n",
       "   '@type': 'Source',\n",
       "   'activity': '/s/activity/omcs/nadya.jp',\n",
       "   'contributor': '/s/contributor/omcs/nadyajp_guest_7'},\n",
       "  {'@id': '/and/[/s/activity/omcs/nadya.jp/,/s/contributor/omcs/nadyajp_guest_70/]',\n",
       "   '@type': 'Source',\n",
       "   'activity': '/s/activity/omcs/nadya.jp',\n",
       "   'contributor': '/s/contributor/omcs/nadyajp_guest_70'},\n",
       "  {'@id': '/and/[/s/activity/omcs/nadya.jp/,/s/contributor/omcs/nadyajp_guest_76/]',\n",
       "   '@type': 'Source',\n",
       "   'activity': '/s/activity/omcs/nadya.jp',\n",
       "   'contributor': '/s/contributor/omcs/nadyajp_guest_76'},\n",
       "  {'@id': '/and/[/s/activity/omcs/nadya.jp/,/s/contributor/omcs/nadyajp_guest_79/]',\n",
       "   '@type': 'Source',\n",
       "   'activity': '/s/activity/omcs/nadya.jp',\n",
       "   'contributor': '/s/contributor/omcs/nadyajp_guest_79'},\n",
       "  {'@id': '/and/[/s/activity/omcs/nadya.jp/,/s/contributor/omcs/nadyajp_twitter_107725812/]',\n",
       "   '@type': 'Source',\n",
       "   'activity': '/s/activity/omcs/nadya.jp',\n",
       "   'contributor': '/s/contributor/omcs/nadyajp_twitter_107725812'},\n",
       "  {'@id': '/and/[/s/activity/omcs/nadya.jp/,/s/contributor/omcs/nadyajp_twitter_175685560/]',\n",
       "   '@type': 'Source',\n",
       "   'activity': '/s/activity/omcs/nadya.jp',\n",
       "   'contributor': '/s/contributor/omcs/nadyajp_twitter_175685560'},\n",
       "  {'@id': '/and/[/s/activity/omcs/nadya.jp/,/s/contributor/omcs/nadyajp_twitter_178673583/]',\n",
       "   '@type': 'Source',\n",
       "   'activity': '/s/activity/omcs/nadya.jp',\n",
       "   'contributor': '/s/contributor/omcs/nadyajp_twitter_178673583'},\n",
       "  {'@id': '/and/[/s/activity/omcs/nadya.jp/,/s/contributor/omcs/nadyajp_twitter_250299618/]',\n",
       "   '@type': 'Source',\n",
       "   'activity': '/s/activity/omcs/nadya.jp',\n",
       "   'contributor': '/s/contributor/omcs/nadyajp_twitter_250299618'},\n",
       "  {'@id': '/and/[/s/activity/omcs/nadya.jp/,/s/contributor/omcs/nadyajp_twitter_443742876/]',\n",
       "   '@type': 'Source',\n",
       "   'activity': '/s/activity/omcs/nadya.jp',\n",
       "   'contributor': '/s/contributor/omcs/nadyajp_twitter_443742876'},\n",
       "  {'@id': '/and/[/s/activity/omcs/nadya.jp/,/s/contributor/omcs/nadyajp_twitter_51708642/]',\n",
       "   '@type': 'Source',\n",
       "   'activity': '/s/activity/omcs/nadya.jp',\n",
       "   'contributor': '/s/contributor/omcs/nadyajp_twitter_51708642'},\n",
       "  {'@id': '/and/[/s/activity/omcs/nadya.jp/,/s/contributor/omcs/nadyajp_twitter_80165984/]',\n",
       "   '@type': 'Source',\n",
       "   'activity': '/s/activity/omcs/nadya.jp',\n",
       "   'contributor': '/s/contributor/omcs/nadyajp_twitter_80165984'},\n",
       "  {'@id': '/and/[/s/activity/omcs/nadya.jp/,/s/contributor/omcs/username25378/]',\n",
       "   '@type': 'Source',\n",
       "   'activity': '/s/activity/omcs/nadya.jp',\n",
       "   'contributor': '/s/contributor/omcs/username25378'},\n",
       "  {'@id': '/s/activity/kyoto_yahoo',\n",
       "   '@type': 'Source',\n",
       "   'activity': '/s/activity/kyoto_yahoo'}],\n",
       " 'start': {'@id': '/c/ja/紙',\n",
       "  '@type': 'Node',\n",
       "  'label': '紙',\n",
       "  'language': 'ja',\n",
       "  'term': '/c/ja/紙'},\n",
       " 'surfaceText': '[[紙]]は[[薄い]]という特徴がある．',\n",
       " 'weight': 2.720294101747088}"
      ]
     },
     "execution_count": 90,
     "metadata": {},
     "output_type": "execute_result"
    }
   ],
   "source": [
    "obj['edges'][0]"
   ]
  },
  {
   "cell_type": "code",
   "execution_count": 91,
   "metadata": {},
   "outputs": [
    {
     "data": {
      "text/plain": [
       "[['HasProperty', '紙', '薄い', 2.720294101747088],\n",
       " ['UsedFor', '紙', '書くこと', 2.720294101747087],\n",
       " ['HasProperty', '紙', '軽い', 2.449489742783178],\n",
       " ['UsedFor', '紙', '描画', 2.1447610589527217],\n",
       " ['MadeOf', '本', '紙', 2.0493901531919203],\n",
       " ['CapableOf', '紙', '焼却 する', 2.0],\n",
       " ['HasProperty', '紙', '不透明', 2.0],\n",
       " ['AtLocation', '紙', 'コピー 機', 2.0],\n",
       " ['IsA', 'リトマス 紙', '紙', 2.0],\n",
       " ['IsA', '段 ボール', '紙', 2.0],\n",
       " ['IsA', 'ボール 紙', '紙', 2.0],\n",
       " ['IsA', 'トイレットペーパー', '紙', 2.0],\n",
       " ['Synonym', '紙', 'paper', 2.0],\n",
       " ['Synonym', '紙', 'бума́га', 2.0],\n",
       " ['Synonym', '紙', 'papier', 2.0],\n",
       " ['IsA', 'トレーシングペーパー', '紙', 2.0],\n",
       " ['IsA', 'はがき', '紙', 2.0],\n",
       " ['CapableOf', '紙', '燃焼 する', 2.0],\n",
       " ['IsA', 'リトマス 試験紙', '紙', 2.0],\n",
       " ['Synonym', '紙', 'papier', 2.0]]"
      ]
     },
     "execution_count": 91,
     "metadata": {},
     "output_type": "execute_result"
    }
   ],
   "source": [
    "lineslist = []\n",
    "for i in range(len(obj['edges'])):\n",
    "    ls = []\n",
    "    ls.append(obj['edges'][i]['rel']['label'])\n",
    "    ls.append(obj['edges'][i]['start']['label'])\n",
    "    ls.append(obj['edges'][i]['end']['label'])\n",
    "    ls.append(obj['edges'][i]['weight'])\n",
    "    lineslist.append(ls)\n",
    "    \n",
    "lineslist"
   ]
  },
  {
   "cell_type": "markdown",
   "metadata": {},
   "source": [
    "## /a/示例"
   ]
  },
  {
   "cell_type": "markdown",
   "metadata": {},
   "source": [
    "/a/必须同时包含subject，object和relation，类似于精确查找"
   ]
  },
  {
   "cell_type": "code",
   "execution_count": 94,
   "metadata": {},
   "outputs": [],
   "source": [
    "obj = requests.get('http://api.conceptnet.io/a/[/r/UsedFor/,/c/en/example/,/c/en/explain/]').json()"
   ]
  },
  {
   "cell_type": "code",
   "execution_count": 95,
   "metadata": {},
   "outputs": [
    {
     "data": {
      "text/plain": [
       "{'@context': ['http://api.conceptnet.io/ld/conceptnet5.7/context.ld.json'],\n",
       " '@id': '/a/[/r/UsedFor/,/c/en/example/,/c/en/explain/]',\n",
       " '@type': 'Edge',\n",
       " 'dataset': '/d/conceptnet/4/en',\n",
       " 'end': {'@id': '/c/en/explain',\n",
       "  '@type': 'Node',\n",
       "  'label': 'explain something',\n",
       "  'language': 'en',\n",
       "  'term': '/c/en/explain'},\n",
       " 'license': 'cc:by/4.0',\n",
       " 'rel': {'@id': '/r/UsedFor', '@type': 'Relation', 'label': 'UsedFor'},\n",
       " 'sources': [{'@id': '/and/[/s/activity/omcs/omcs1_possibly_free_text/,/s/contributor/omcs/pavlos/]',\n",
       "   '@type': 'Source',\n",
       "   'activity': '/s/activity/omcs/omcs1_possibly_free_text',\n",
       "   'contributor': '/s/contributor/omcs/pavlos'}],\n",
       " 'start': {'@id': '/c/en/example',\n",
       "  '@type': 'Node',\n",
       "  'label': 'an example',\n",
       "  'language': 'en',\n",
       "  'term': '/c/en/example'},\n",
       " 'surfaceText': 'You can use [[an example]] to [[explain something]]',\n",
       " 'weight': 1.0}"
      ]
     },
     "execution_count": 95,
     "metadata": {},
     "output_type": "execute_result"
    }
   ],
   "source": [
    "obj"
   ]
  },
  {
   "cell_type": "markdown",
   "metadata": {},
   "source": [
    "## /r/示例"
   ]
  },
  {
   "cell_type": "markdown",
   "metadata": {},
   "source": [
    "/r/是请求特定关系"
   ]
  },
  {
   "cell_type": "code",
   "execution_count": 101,
   "metadata": {},
   "outputs": [
    {
     "data": {
      "text/plain": [
       "20"
      ]
     },
     "execution_count": 101,
     "metadata": {},
     "output_type": "execute_result"
    }
   ],
   "source": [
    "obj = requests.get('http://api.conceptnet.io/r/IsA').json()\n",
    "len(obj['edges'])"
   ]
  },
  {
   "cell_type": "code",
   "execution_count": 102,
   "metadata": {},
   "outputs": [
    {
     "data": {
      "text/plain": [
       "{'@id': '/a/[/r/IsA/,/c/zh/a_菜/,/c/zh/蔬菜/]',\n",
       " '@type': 'Edge',\n",
       " 'dataset': '/d/conceptnet/4/zh',\n",
       " 'end': {'@id': '/c/zh/蔬菜',\n",
       "  '@type': 'Node',\n",
       "  'label': '蔬菜',\n",
       "  'language': 'zh',\n",
       "  'term': '/c/zh/蔬菜'},\n",
       " 'license': 'cc:by/4.0',\n",
       " 'rel': {'@id': '/r/IsA', '@type': 'Relation', 'label': 'IsA'},\n",
       " 'sources': [{'@id': '/and/[/s/activity/ptt/petgame/,/s/contributor/petgame/pet_11803/]',\n",
       "   '@type': 'Source',\n",
       "   'activity': '/s/activity/ptt/petgame',\n",
       "   'contributor': '/s/contributor/petgame/pet_11803'},\n",
       "  {'@id': '/and/[/s/activity/ptt/petgame/,/s/contributor/petgame/pet_12479/]',\n",
       "   '@type': 'Source',\n",
       "   'activity': '/s/activity/ptt/petgame',\n",
       "   'contributor': '/s/contributor/petgame/pet_12479'},\n",
       "  {'@id': '/and/[/s/activity/ptt/petgame/,/s/contributor/petgame/pet_12529/]',\n",
       "   '@type': 'Source',\n",
       "   'activity': '/s/activity/ptt/petgame',\n",
       "   'contributor': '/s/contributor/petgame/pet_12529'},\n",
       "  {'@id': '/and/[/s/activity/ptt/petgame/,/s/contributor/petgame/pet_12795/]',\n",
       "   '@type': 'Source',\n",
       "   'activity': '/s/activity/ptt/petgame',\n",
       "   'contributor': '/s/contributor/petgame/pet_12795'},\n",
       "  {'@id': '/and/[/s/activity/ptt/petgame/,/s/contributor/petgame/pet_13208/]',\n",
       "   '@type': 'Source',\n",
       "   'activity': '/s/activity/ptt/petgame',\n",
       "   'contributor': '/s/contributor/petgame/pet_13208'},\n",
       "  {'@id': '/and/[/s/activity/ptt/petgame/,/s/contributor/petgame/pet_13241/]',\n",
       "   '@type': 'Source',\n",
       "   'activity': '/s/activity/ptt/petgame',\n",
       "   'contributor': '/s/contributor/petgame/pet_13241'},\n",
       "  {'@id': '/and/[/s/activity/ptt/petgame/,/s/contributor/petgame/pet_1339/]',\n",
       "   '@type': 'Source',\n",
       "   'activity': '/s/activity/ptt/petgame',\n",
       "   'contributor': '/s/contributor/petgame/pet_1339'},\n",
       "  {'@id': '/and/[/s/activity/ptt/petgame/,/s/contributor/petgame/pet_13460/]',\n",
       "   '@type': 'Source',\n",
       "   'activity': '/s/activity/ptt/petgame',\n",
       "   'contributor': '/s/contributor/petgame/pet_13460'},\n",
       "  {'@id': '/and/[/s/activity/ptt/petgame/,/s/contributor/petgame/pet_13722/]',\n",
       "   '@type': 'Source',\n",
       "   'activity': '/s/activity/ptt/petgame',\n",
       "   'contributor': '/s/contributor/petgame/pet_13722'},\n",
       "  {'@id': '/and/[/s/activity/ptt/petgame/,/s/contributor/petgame/pet_13928/]',\n",
       "   '@type': 'Source',\n",
       "   'activity': '/s/activity/ptt/petgame',\n",
       "   'contributor': '/s/contributor/petgame/pet_13928'},\n",
       "  {'@id': '/and/[/s/activity/ptt/petgame/,/s/contributor/petgame/pet_14117/]',\n",
       "   '@type': 'Source',\n",
       "   'activity': '/s/activity/ptt/petgame',\n",
       "   'contributor': '/s/contributor/petgame/pet_14117'},\n",
       "  {'@id': '/and/[/s/activity/ptt/petgame/,/s/contributor/petgame/pet_14223/]',\n",
       "   '@type': 'Source',\n",
       "   'activity': '/s/activity/ptt/petgame',\n",
       "   'contributor': '/s/contributor/petgame/pet_14223'},\n",
       "  {'@id': '/and/[/s/activity/ptt/petgame/,/s/contributor/petgame/pet_14229/]',\n",
       "   '@type': 'Source',\n",
       "   'activity': '/s/activity/ptt/petgame',\n",
       "   'contributor': '/s/contributor/petgame/pet_14229'},\n",
       "  {'@id': '/and/[/s/activity/ptt/petgame/,/s/contributor/petgame/pet_1426/]',\n",
       "   '@type': 'Source',\n",
       "   'activity': '/s/activity/ptt/petgame',\n",
       "   'contributor': '/s/contributor/petgame/pet_1426'},\n",
       "  {'@id': '/and/[/s/activity/ptt/petgame/,/s/contributor/petgame/pet_14282/]',\n",
       "   '@type': 'Source',\n",
       "   'activity': '/s/activity/ptt/petgame',\n",
       "   'contributor': '/s/contributor/petgame/pet_14282'},\n",
       "  {'@id': '/and/[/s/activity/ptt/petgame/,/s/contributor/petgame/pet_14488/]',\n",
       "   '@type': 'Source',\n",
       "   'activity': '/s/activity/ptt/petgame',\n",
       "   'contributor': '/s/contributor/petgame/pet_14488'},\n",
       "  {'@id': '/and/[/s/activity/ptt/petgame/,/s/contributor/petgame/pet_14497/]',\n",
       "   '@type': 'Source',\n",
       "   'activity': '/s/activity/ptt/petgame',\n",
       "   'contributor': '/s/contributor/petgame/pet_14497'},\n",
       "  {'@id': '/and/[/s/activity/ptt/petgame/,/s/contributor/petgame/pet_14608/]',\n",
       "   '@type': 'Source',\n",
       "   'activity': '/s/activity/ptt/petgame',\n",
       "   'contributor': '/s/contributor/petgame/pet_14608'},\n",
       "  {'@id': '/and/[/s/activity/ptt/petgame/,/s/contributor/petgame/pet_14693/]',\n",
       "   '@type': 'Source',\n",
       "   'activity': '/s/activity/ptt/petgame',\n",
       "   'contributor': '/s/contributor/petgame/pet_14693'},\n",
       "  {'@id': '/and/[/s/activity/ptt/petgame/,/s/contributor/petgame/pet_14733/]',\n",
       "   '@type': 'Source',\n",
       "   'activity': '/s/activity/ptt/petgame',\n",
       "   'contributor': '/s/contributor/petgame/pet_14733'},\n",
       "  {'@id': '/and/[/s/activity/ptt/petgame/,/s/contributor/petgame/pet_14789/]',\n",
       "   '@type': 'Source',\n",
       "   'activity': '/s/activity/ptt/petgame',\n",
       "   'contributor': '/s/contributor/petgame/pet_14789'},\n",
       "  {'@id': '/and/[/s/activity/ptt/petgame/,/s/contributor/petgame/pet_14795/]',\n",
       "   '@type': 'Source',\n",
       "   'activity': '/s/activity/ptt/petgame',\n",
       "   'contributor': '/s/contributor/petgame/pet_14795'},\n",
       "  {'@id': '/and/[/s/activity/ptt/petgame/,/s/contributor/petgame/pet_14809/]',\n",
       "   '@type': 'Source',\n",
       "   'activity': '/s/activity/ptt/petgame',\n",
       "   'contributor': '/s/contributor/petgame/pet_14809'},\n",
       "  {'@id': '/and/[/s/activity/ptt/petgame/,/s/contributor/petgame/pet_14887/]',\n",
       "   '@type': 'Source',\n",
       "   'activity': '/s/activity/ptt/petgame',\n",
       "   'contributor': '/s/contributor/petgame/pet_14887'},\n",
       "  {'@id': '/and/[/s/activity/ptt/petgame/,/s/contributor/petgame/pet_14904/]',\n",
       "   '@type': 'Source',\n",
       "   'activity': '/s/activity/ptt/petgame',\n",
       "   'contributor': '/s/contributor/petgame/pet_14904'},\n",
       "  {'@id': '/and/[/s/activity/ptt/petgame/,/s/contributor/petgame/pet_14913/]',\n",
       "   '@type': 'Source',\n",
       "   'activity': '/s/activity/ptt/petgame',\n",
       "   'contributor': '/s/contributor/petgame/pet_14913'},\n",
       "  {'@id': '/and/[/s/activity/ptt/petgame/,/s/contributor/petgame/pet_14924/]',\n",
       "   '@type': 'Source',\n",
       "   'activity': '/s/activity/ptt/petgame',\n",
       "   'contributor': '/s/contributor/petgame/pet_14924'},\n",
       "  {'@id': '/and/[/s/activity/ptt/petgame/,/s/contributor/petgame/pet_14961/]',\n",
       "   '@type': 'Source',\n",
       "   'activity': '/s/activity/ptt/petgame',\n",
       "   'contributor': '/s/contributor/petgame/pet_14961'},\n",
       "  {'@id': '/and/[/s/activity/ptt/petgame/,/s/contributor/petgame/pet_386/]',\n",
       "   '@type': 'Source',\n",
       "   'activity': '/s/activity/ptt/petgame',\n",
       "   'contributor': '/s/contributor/petgame/pet_386'},\n",
       "  {'@id': '/and/[/s/activity/ptt/petgame/,/s/contributor/petgame/pet_4238/]',\n",
       "   '@type': 'Source',\n",
       "   'activity': '/s/activity/ptt/petgame',\n",
       "   'contributor': '/s/contributor/petgame/pet_4238'},\n",
       "  {'@id': '/and/[/s/activity/ptt/petgame/,/s/contributor/petgame/pet_4440/]',\n",
       "   '@type': 'Source',\n",
       "   'activity': '/s/activity/ptt/petgame',\n",
       "   'contributor': '/s/contributor/petgame/pet_4440'},\n",
       "  {'@id': '/and/[/s/activity/ptt/petgame/,/s/contributor/petgame/pet_64/]',\n",
       "   '@type': 'Source',\n",
       "   'activity': '/s/activity/ptt/petgame',\n",
       "   'contributor': '/s/contributor/petgame/pet_64'},\n",
       "  {'@id': '/and/[/s/activity/ptt/petgame/,/s/contributor/petgame/pet_7167/]',\n",
       "   '@type': 'Source',\n",
       "   'activity': '/s/activity/ptt/petgame',\n",
       "   'contributor': '/s/contributor/petgame/pet_7167'}],\n",
       " 'start': {'@id': '/c/zh/a_菜',\n",
       "  '@type': 'Node',\n",
       "  'label': 'A菜',\n",
       "  'language': 'zh',\n",
       "  'term': '/c/zh/a_菜'},\n",
       " 'surfaceText': '[[A菜]] 是一種 [[蔬菜]]。',\n",
       " 'weight': 11.313708498984761}"
      ]
     },
     "execution_count": 102,
     "metadata": {},
     "output_type": "execute_result"
    }
   ],
   "source": [
    "obj['edges'][0]"
   ]
  },
  {
   "cell_type": "code",
   "execution_count": 103,
   "metadata": {},
   "outputs": [
    {
     "data": {
      "text/plain": [
       "[['IsA', 'A菜', '蔬菜', 11.313708498984761],\n",
       " ['IsA', '宮保雞丁', '中國菜', 8.48528137423857],\n",
       " ['IsA', 'restaurants', 'places', 7.483314773547882],\n",
       " ['IsA', '王子麵', '麵', 6.928203230275509],\n",
       " ['IsA', '可口可樂', '飲料', 6.928203230275509],\n",
       " ['IsA', 'France', 'country', 6.6332495807108],\n",
       " ['IsA', 'sex', 'a three letter word', 6.0],\n",
       " ['IsA', '沙發', '床', 5.656854249492381],\n",
       " ['IsA', '蟑螂', '昆蟲', 5.656854249492381],\n",
       " ['IsA', '棺材板', '夜市小吃', 5.291502622129181],\n",
       " ['IsA', 'a woodwind', 'a musical instrument', 5.291502622129181],\n",
       " ['IsA', 'python', 'programming language', 4.898979485566356],\n",
       " ['IsA', '雞塊', '美式料理', 4.47213595499958],\n",
       " ['IsA', 'Maine', 'a state', 4.47213595499958],\n",
       " ['IsA', '愛情', '甜蜜', 4.0],\n",
       " ['IsA', '醫院', '地標', 4.0],\n",
       " ['IsA', '綠色', '顏色', 4.0],\n",
       " ['IsA', '塔塔醬', '醬料', 3.4641016151377544],\n",
       " ['IsA', 'Az ember', 'emlős', 3.4641016151377544],\n",
       " ['IsA', '電話', '通訊工具', 3.4641016151377544]]"
      ]
     },
     "execution_count": 103,
     "metadata": {},
     "output_type": "execute_result"
    }
   ],
   "source": [
    "lineslist = []\n",
    "for i in range(len(obj['edges'])):\n",
    "    ls = []\n",
    "    ls.append(obj['edges'][i]['rel']['label'])\n",
    "    ls.append(obj['edges'][i]['start']['label'])\n",
    "    ls.append(obj['edges'][i]['end']['label'])\n",
    "    ls.append(obj['edges'][i]['weight'])\n",
    "    lineslist.append(ls)\n",
    "    \n",
    "lineslist"
   ]
  },
  {
   "cell_type": "markdown",
   "metadata": {},
   "source": [
    "## /s/示例"
   ]
  },
  {
   "cell_type": "markdown",
   "metadata": {},
   "source": [
    "/s/提供信息来源\n",
    "- /s/contributor: a human contributor to a crowd-sourced knowledge base.\n",
    "- /s/activity: a knowledge-collection task that was being presented by a computer to collect crowd-sourced knowledge.\n",
    "- /s/process: an automatic rule for extracting knowledge from a different form."
   ]
  },
  {
   "cell_type": "markdown",
   "metadata": {},
   "source": [
    "### /s/contributor"
   ]
  },
  {
   "cell_type": "code",
   "execution_count": 106,
   "metadata": {},
   "outputs": [
    {
     "data": {
      "text/plain": [
       "20"
      ]
     },
     "execution_count": 106,
     "metadata": {},
     "output_type": "execute_result"
    }
   ],
   "source": [
    "obj = requests.get('http://api.conceptnet.io/s/contributor/omcs/dev').json()\n",
    "len(obj['edges'])"
   ]
  },
  {
   "cell_type": "code",
   "execution_count": 107,
   "metadata": {},
   "outputs": [
    {
     "data": {
      "text/plain": [
       "{'@id': '/a/[/r/IsA/,/c/en/yo_yo/,/c/en/toy/]',\n",
       " '@type': 'Edge',\n",
       " 'dataset': '/d/conceptnet/4/en',\n",
       " 'end': {'@id': '/c/en/toy',\n",
       "  '@type': 'Node',\n",
       "  'label': 'a toy',\n",
       "  'language': 'en',\n",
       "  'term': '/c/en/toy'},\n",
       " 'license': 'cc:by/4.0',\n",
       " 'rel': {'@id': '/r/IsA', '@type': 'Relation', 'label': 'IsA'},\n",
       " 'sources': [{'@id': '/and/[/s/activity/omcs/is_a_cleanup/,/s/contributor/omcs/smtango/]',\n",
       "   '@type': 'Source',\n",
       "   'activity': '/s/activity/omcs/is_a_cleanup',\n",
       "   'contributor': '/s/contributor/omcs/smtango'},\n",
       "  {'@id': '/and/[/s/activity/omcs/omcs1_possibly_free_text/,/s/contributor/omcs/evalise/]',\n",
       "   '@type': 'Source',\n",
       "   'activity': '/s/activity/omcs/omcs1_possibly_free_text',\n",
       "   'contributor': '/s/contributor/omcs/evalise'},\n",
       "  {'@id': '/and/[/s/activity/omcs/omcs1_possibly_free_text/,/s/contributor/omcs/ke6wli/]',\n",
       "   '@type': 'Source',\n",
       "   'activity': '/s/activity/omcs/omcs1_possibly_free_text',\n",
       "   'contributor': '/s/contributor/omcs/ke6wli'},\n",
       "  {'@id': '/and/[/s/activity/omcs/omcs1_possibly_free_text/,/s/contributor/omcs/neelix715016/]',\n",
       "   '@type': 'Source',\n",
       "   'activity': '/s/activity/omcs/omcs1_possibly_free_text',\n",
       "   'contributor': '/s/contributor/omcs/neelix715016'},\n",
       "  {'@id': '/and/[/s/activity/omcs/vote/,/s/contributor/omcs/621562/]',\n",
       "   '@type': 'Source',\n",
       "   'activity': '/s/activity/omcs/vote',\n",
       "   'contributor': '/s/contributor/omcs/621562'},\n",
       "  {'@id': '/and/[/s/activity/omcs/vote/,/s/contributor/omcs/acprevost/]',\n",
       "   '@type': 'Source',\n",
       "   'activity': '/s/activity/omcs/vote',\n",
       "   'contributor': '/s/contributor/omcs/acprevost'},\n",
       "  {'@id': '/and/[/s/activity/omcs/vote/,/s/contributor/omcs/andrec/]',\n",
       "   '@type': 'Source',\n",
       "   'activity': '/s/activity/omcs/vote',\n",
       "   'contributor': '/s/contributor/omcs/andrec'},\n",
       "  {'@id': '/and/[/s/activity/omcs/vote/,/s/contributor/omcs/andreicnx/]',\n",
       "   '@type': 'Source',\n",
       "   'activity': '/s/activity/omcs/vote',\n",
       "   'contributor': '/s/contributor/omcs/andreicnx'},\n",
       "  {'@id': '/and/[/s/activity/omcs/vote/,/s/contributor/omcs/ark30inf/]',\n",
       "   '@type': 'Source',\n",
       "   'activity': '/s/activity/omcs/vote',\n",
       "   'contributor': '/s/contributor/omcs/ark30inf'},\n",
       "  {'@id': '/and/[/s/activity/omcs/vote/,/s/contributor/omcs/artifexcrastinus/]',\n",
       "   '@type': 'Source',\n",
       "   'activity': '/s/activity/omcs/vote',\n",
       "   'contributor': '/s/contributor/omcs/artifexcrastinus'},\n",
       "  {'@id': '/and/[/s/activity/omcs/vote/,/s/contributor/omcs/arturion/]',\n",
       "   '@type': 'Source',\n",
       "   'activity': '/s/activity/omcs/vote',\n",
       "   'contributor': '/s/contributor/omcs/arturion'},\n",
       "  {'@id': '/and/[/s/activity/omcs/vote/,/s/contributor/omcs/avalot/]',\n",
       "   '@type': 'Source',\n",
       "   'activity': '/s/activity/omcs/vote',\n",
       "   'contributor': '/s/contributor/omcs/avalot'},\n",
       "  {'@id': '/and/[/s/activity/omcs/vote/,/s/contributor/omcs/ballenato/]',\n",
       "   '@type': 'Source',\n",
       "   'activity': '/s/activity/omcs/vote',\n",
       "   'contributor': '/s/contributor/omcs/ballenato'},\n",
       "  {'@id': '/and/[/s/activity/omcs/vote/,/s/contributor/omcs/beccam/]',\n",
       "   '@type': 'Source',\n",
       "   'activity': '/s/activity/omcs/vote',\n",
       "   'contributor': '/s/contributor/omcs/beccam'},\n",
       "  {'@id': '/and/[/s/activity/omcs/vote/,/s/contributor/omcs/brainmagmo/]',\n",
       "   '@type': 'Source',\n",
       "   'activity': '/s/activity/omcs/vote',\n",
       "   'contributor': '/s/contributor/omcs/brainmagmo'},\n",
       "  {'@id': '/and/[/s/activity/omcs/vote/,/s/contributor/omcs/browni/]',\n",
       "   '@type': 'Source',\n",
       "   'activity': '/s/activity/omcs/vote',\n",
       "   'contributor': '/s/contributor/omcs/browni'},\n",
       "  {'@id': '/and/[/s/activity/omcs/vote/,/s/contributor/omcs/bytez/]',\n",
       "   '@type': 'Source',\n",
       "   'activity': '/s/activity/omcs/vote',\n",
       "   'contributor': '/s/contributor/omcs/bytez'},\n",
       "  {'@id': '/and/[/s/activity/omcs/vote/,/s/contributor/omcs/chaizzilla/]',\n",
       "   '@type': 'Source',\n",
       "   'activity': '/s/activity/omcs/vote',\n",
       "   'contributor': '/s/contributor/omcs/chaizzilla'},\n",
       "  {'@id': '/and/[/s/activity/omcs/vote/,/s/contributor/omcs/chazryt/]',\n",
       "   '@type': 'Source',\n",
       "   'activity': '/s/activity/omcs/vote',\n",
       "   'contributor': '/s/contributor/omcs/chazryt'},\n",
       "  {'@id': '/and/[/s/activity/omcs/vote/,/s/contributor/omcs/chilingo/]',\n",
       "   '@type': 'Source',\n",
       "   'activity': '/s/activity/omcs/vote',\n",
       "   'contributor': '/s/contributor/omcs/chilingo'},\n",
       "  {'@id': '/and/[/s/activity/omcs/vote/,/s/contributor/omcs/cirus/]',\n",
       "   '@type': 'Source',\n",
       "   'activity': '/s/activity/omcs/vote',\n",
       "   'contributor': '/s/contributor/omcs/cirus'},\n",
       "  {'@id': '/and/[/s/activity/omcs/vote/,/s/contributor/omcs/colagor/]',\n",
       "   '@type': 'Source',\n",
       "   'activity': '/s/activity/omcs/vote',\n",
       "   'contributor': '/s/contributor/omcs/colagor'},\n",
       "  {'@id': '/and/[/s/activity/omcs/vote/,/s/contributor/omcs/d/]',\n",
       "   '@type': 'Source',\n",
       "   'activity': '/s/activity/omcs/vote',\n",
       "   'contributor': '/s/contributor/omcs/d'},\n",
       "  {'@id': '/and/[/s/activity/omcs/vote/,/s/contributor/omcs/daneel/]',\n",
       "   '@type': 'Source',\n",
       "   'activity': '/s/activity/omcs/vote',\n",
       "   'contributor': '/s/contributor/omcs/daneel'},\n",
       "  {'@id': '/and/[/s/activity/omcs/vote/,/s/contributor/omcs/danielnash/]',\n",
       "   '@type': 'Source',\n",
       "   'activity': '/s/activity/omcs/vote',\n",
       "   'contributor': '/s/contributor/omcs/danielnash'},\n",
       "  {'@id': '/and/[/s/activity/omcs/vote/,/s/contributor/omcs/demosthenes2k8/]',\n",
       "   '@type': 'Source',\n",
       "   'activity': '/s/activity/omcs/vote',\n",
       "   'contributor': '/s/contributor/omcs/demosthenes2k8'},\n",
       "  {'@id': '/and/[/s/activity/omcs/vote/,/s/contributor/omcs/desalvionjr/]',\n",
       "   '@type': 'Source',\n",
       "   'activity': '/s/activity/omcs/vote',\n",
       "   'contributor': '/s/contributor/omcs/desalvionjr'},\n",
       "  {'@id': '/and/[/s/activity/omcs/vote/,/s/contributor/omcs/dev/]',\n",
       "   '@type': 'Source',\n",
       "   'activity': '/s/activity/omcs/vote',\n",
       "   'contributor': '/s/contributor/omcs/dev'},\n",
       "  {'@id': '/and/[/s/activity/omcs/vote/,/s/contributor/omcs/djuber/]',\n",
       "   '@type': 'Source',\n",
       "   'activity': '/s/activity/omcs/vote',\n",
       "   'contributor': '/s/contributor/omcs/djuber'},\n",
       "  {'@id': '/and/[/s/activity/omcs/vote/,/s/contributor/omcs/dragonjools/]',\n",
       "   '@type': 'Source',\n",
       "   'activity': '/s/activity/omcs/vote',\n",
       "   'contributor': '/s/contributor/omcs/dragonjools'},\n",
       "  {'@id': '/and/[/s/activity/omcs/vote/,/s/contributor/omcs/dvyjones/]',\n",
       "   '@type': 'Source',\n",
       "   'activity': '/s/activity/omcs/vote',\n",
       "   'contributor': '/s/contributor/omcs/dvyjones'},\n",
       "  {'@id': '/and/[/s/activity/omcs/vote/,/s/contributor/omcs/ecmoffat/]',\n",
       "   '@type': 'Source',\n",
       "   'activity': '/s/activity/omcs/vote',\n",
       "   'contributor': '/s/contributor/omcs/ecmoffat'},\n",
       "  {'@id': '/and/[/s/activity/omcs/vote/,/s/contributor/omcs/edman274/]',\n",
       "   '@type': 'Source',\n",
       "   'activity': '/s/activity/omcs/vote',\n",
       "   'contributor': '/s/contributor/omcs/edman274'},\n",
       "  {'@id': '/and/[/s/activity/omcs/vote/,/s/contributor/omcs/ekti/]',\n",
       "   '@type': 'Source',\n",
       "   'activity': '/s/activity/omcs/vote',\n",
       "   'contributor': '/s/contributor/omcs/ekti'},\n",
       "  {'@id': '/and/[/s/activity/omcs/vote/,/s/contributor/omcs/elsten/]',\n",
       "   '@type': 'Source',\n",
       "   'activity': '/s/activity/omcs/vote',\n",
       "   'contributor': '/s/contributor/omcs/elsten'},\n",
       "  {'@id': '/and/[/s/activity/omcs/vote/,/s/contributor/omcs/endolith/]',\n",
       "   '@type': 'Source',\n",
       "   'activity': '/s/activity/omcs/vote',\n",
       "   'contributor': '/s/contributor/omcs/endolith'},\n",
       "  {'@id': '/and/[/s/activity/omcs/vote/,/s/contributor/omcs/eturner/]',\n",
       "   '@type': 'Source',\n",
       "   'activity': '/s/activity/omcs/vote',\n",
       "   'contributor': '/s/contributor/omcs/eturner'},\n",
       "  {'@id': '/and/[/s/activity/omcs/vote/,/s/contributor/omcs/evalise/]',\n",
       "   '@type': 'Source',\n",
       "   'activity': '/s/activity/omcs/vote',\n",
       "   'contributor': '/s/contributor/omcs/evalise'},\n",
       "  {'@id': '/and/[/s/activity/omcs/vote/,/s/contributor/omcs/helge/]',\n",
       "   '@type': 'Source',\n",
       "   'activity': '/s/activity/omcs/vote',\n",
       "   'contributor': '/s/contributor/omcs/helge'},\n",
       "  {'@id': '/and/[/s/activity/omcs/vote/,/s/contributor/omcs/hjohnson_7801/]',\n",
       "   '@type': 'Source',\n",
       "   'activity': '/s/activity/omcs/vote',\n",
       "   'contributor': '/s/contributor/omcs/hjohnson_7801'},\n",
       "  {'@id': '/and/[/s/activity/omcs/vote/,/s/contributor/omcs/irgsmirx/]',\n",
       "   '@type': 'Source',\n",
       "   'activity': '/s/activity/omcs/vote',\n",
       "   'contributor': '/s/contributor/omcs/irgsmirx'},\n",
       "  {'@id': '/and/[/s/activity/omcs/vote/,/s/contributor/omcs/jasongross/]',\n",
       "   '@type': 'Source',\n",
       "   'activity': '/s/activity/omcs/vote',\n",
       "   'contributor': '/s/contributor/omcs/jasongross'},\n",
       "  {'@id': '/and/[/s/activity/omcs/vote/,/s/contributor/omcs/jbbdude/]',\n",
       "   '@type': 'Source',\n",
       "   'activity': '/s/activity/omcs/vote',\n",
       "   'contributor': '/s/contributor/omcs/jbbdude'},\n",
       "  {'@id': '/and/[/s/activity/omcs/vote/,/s/contributor/omcs/jfw7/]',\n",
       "   '@type': 'Source',\n",
       "   'activity': '/s/activity/omcs/vote',\n",
       "   'contributor': '/s/contributor/omcs/jfw7'},\n",
       "  {'@id': '/and/[/s/activity/omcs/vote/,/s/contributor/omcs/jkeats3/]',\n",
       "   '@type': 'Source',\n",
       "   'activity': '/s/activity/omcs/vote',\n",
       "   'contributor': '/s/contributor/omcs/jkeats3'},\n",
       "  {'@id': '/and/[/s/activity/omcs/vote/,/s/contributor/omcs/jkrasomil/]',\n",
       "   '@type': 'Source',\n",
       "   'activity': '/s/activity/omcs/vote',\n",
       "   'contributor': '/s/contributor/omcs/jkrasomil'},\n",
       "  {'@id': '/and/[/s/activity/omcs/vote/,/s/contributor/omcs/jview12/]',\n",
       "   '@type': 'Source',\n",
       "   'activity': '/s/activity/omcs/vote',\n",
       "   'contributor': '/s/contributor/omcs/jview12'},\n",
       "  {'@id': '/and/[/s/activity/omcs/vote/,/s/contributor/omcs/kacjf73/]',\n",
       "   '@type': 'Source',\n",
       "   'activity': '/s/activity/omcs/vote',\n",
       "   'contributor': '/s/contributor/omcs/kacjf73'},\n",
       "  {'@id': '/and/[/s/activity/omcs/vote/,/s/contributor/omcs/ke6wli/]',\n",
       "   '@type': 'Source',\n",
       "   'activity': '/s/activity/omcs/vote',\n",
       "   'contributor': '/s/contributor/omcs/ke6wli'},\n",
       "  {'@id': '/and/[/s/activity/omcs/vote/,/s/contributor/omcs/kostmo/]',\n",
       "   '@type': 'Source',\n",
       "   'activity': '/s/activity/omcs/vote',\n",
       "   'contributor': '/s/contributor/omcs/kostmo'},\n",
       "  {'@id': '/and/[/s/activity/omcs/vote/,/s/contributor/omcs/kurt_woloch/]',\n",
       "   '@type': 'Source',\n",
       "   'activity': '/s/activity/omcs/vote',\n",
       "   'contributor': '/s/contributor/omcs/kurt_woloch'},\n",
       "  {'@id': '/and/[/s/activity/omcs/vote/,/s/contributor/omcs/lovemidget/]',\n",
       "   '@type': 'Source',\n",
       "   'activity': '/s/activity/omcs/vote',\n",
       "   'contributor': '/s/contributor/omcs/lovemidget'},\n",
       "  {'@id': '/and/[/s/activity/omcs/vote/,/s/contributor/omcs/lrenhrda/]',\n",
       "   '@type': 'Source',\n",
       "   'activity': '/s/activity/omcs/vote',\n",
       "   'contributor': '/s/contributor/omcs/lrenhrda'},\n",
       "  {'@id': '/and/[/s/activity/omcs/vote/,/s/contributor/omcs/manwalklikebear/]',\n",
       "   '@type': 'Source',\n",
       "   'activity': '/s/activity/omcs/vote',\n",
       "   'contributor': '/s/contributor/omcs/manwalklikebear'},\n",
       "  {'@id': '/and/[/s/activity/omcs/vote/,/s/contributor/omcs/mcduarte2000/]',\n",
       "   '@type': 'Source',\n",
       "   'activity': '/s/activity/omcs/vote',\n",
       "   'contributor': '/s/contributor/omcs/mcduarte2000'},\n",
       "  {'@id': '/and/[/s/activity/omcs/vote/,/s/contributor/omcs/mechado/]',\n",
       "   '@type': 'Source',\n",
       "   'activity': '/s/activity/omcs/vote',\n",
       "   'contributor': '/s/contributor/omcs/mechado'},\n",
       "  {'@id': '/and/[/s/activity/omcs/vote/,/s/contributor/omcs/mprk/]',\n",
       "   '@type': 'Source',\n",
       "   'activity': '/s/activity/omcs/vote',\n",
       "   'contributor': '/s/contributor/omcs/mprk'},\n",
       "  {'@id': '/and/[/s/activity/omcs/vote/,/s/contributor/omcs/mrkrause/]',\n",
       "   '@type': 'Source',\n",
       "   'activity': '/s/activity/omcs/vote',\n",
       "   'contributor': '/s/contributor/omcs/mrkrause'},\n",
       "  {'@id': '/and/[/s/activity/omcs/vote/,/s/contributor/omcs/navajonki/]',\n",
       "   '@type': 'Source',\n",
       "   'activity': '/s/activity/omcs/vote',\n",
       "   'contributor': '/s/contributor/omcs/navajonki'},\n",
       "  {'@id': '/and/[/s/activity/omcs/vote/,/s/contributor/omcs/nemerle/]',\n",
       "   '@type': 'Source',\n",
       "   'activity': '/s/activity/omcs/vote',\n",
       "   'contributor': '/s/contributor/omcs/nemerle'},\n",
       "  {'@id': '/and/[/s/activity/omcs/vote/,/s/contributor/omcs/ninjamatt/]',\n",
       "   '@type': 'Source',\n",
       "   'activity': '/s/activity/omcs/vote',\n",
       "   'contributor': '/s/contributor/omcs/ninjamatt'},\n",
       "  {'@id': '/and/[/s/activity/omcs/vote/,/s/contributor/omcs/nk/]',\n",
       "   '@type': 'Source',\n",
       "   'activity': '/s/activity/omcs/vote',\n",
       "   'contributor': '/s/contributor/omcs/nk'},\n",
       "  {'@id': '/and/[/s/activity/omcs/vote/,/s/contributor/omcs/ogrebeny/]',\n",
       "   '@type': 'Source',\n",
       "   'activity': '/s/activity/omcs/vote',\n",
       "   'contributor': '/s/contributor/omcs/ogrebeny'},\n",
       "  {'@id': '/and/[/s/activity/omcs/vote/,/s/contributor/omcs/oronoa/]',\n",
       "   '@type': 'Source',\n",
       "   'activity': '/s/activity/omcs/vote',\n",
       "   'contributor': '/s/contributor/omcs/oronoa'},\n",
       "  {'@id': '/and/[/s/activity/omcs/vote/,/s/contributor/omcs/paulmcq/]',\n",
       "   '@type': 'Source',\n",
       "   'activity': '/s/activity/omcs/vote',\n",
       "   'contributor': '/s/contributor/omcs/paulmcq'},\n",
       "  {'@id': '/and/[/s/activity/omcs/vote/,/s/contributor/omcs/peeonyou/]',\n",
       "   '@type': 'Source',\n",
       "   'activity': '/s/activity/omcs/vote',\n",
       "   'contributor': '/s/contributor/omcs/peeonyou'},\n",
       "  {'@id': '/and/[/s/activity/omcs/vote/,/s/contributor/omcs/pmawhorter/]',\n",
       "   '@type': 'Source',\n",
       "   'activity': '/s/activity/omcs/vote',\n",
       "   'contributor': '/s/contributor/omcs/pmawhorter'},\n",
       "  {'@id': '/and/[/s/activity/omcs/vote/,/s/contributor/omcs/polymatrix/]',\n",
       "   '@type': 'Source',\n",
       "   'activity': '/s/activity/omcs/vote',\n",
       "   'contributor': '/s/contributor/omcs/polymatrix'},\n",
       "  {'@id': '/and/[/s/activity/omcs/vote/,/s/contributor/omcs/regs22/]',\n",
       "   '@type': 'Source',\n",
       "   'activity': '/s/activity/omcs/vote',\n",
       "   'contributor': '/s/contributor/omcs/regs22'},\n",
       "  {'@id': '/and/[/s/activity/omcs/vote/,/s/contributor/omcs/richard_h0lt/]',\n",
       "   '@type': 'Source',\n",
       "   'activity': '/s/activity/omcs/vote',\n",
       "   'contributor': '/s/contributor/omcs/richard_h0lt'},\n",
       "  {'@id': '/and/[/s/activity/omcs/vote/,/s/contributor/omcs/robwakelin/]',\n",
       "   '@type': 'Source',\n",
       "   'activity': '/s/activity/omcs/vote',\n",
       "   'contributor': '/s/contributor/omcs/robwakelin'},\n",
       "  {'@id': '/and/[/s/activity/omcs/vote/,/s/contributor/omcs/sandos/]',\n",
       "   '@type': 'Source',\n",
       "   'activity': '/s/activity/omcs/vote',\n",
       "   'contributor': '/s/contributor/omcs/sandos'},\n",
       "  {'@id': '/and/[/s/activity/omcs/vote/,/s/contributor/omcs/sausage/]',\n",
       "   '@type': 'Source',\n",
       "   'activity': '/s/activity/omcs/vote',\n",
       "   'contributor': '/s/contributor/omcs/sausage'},\n",
       "  {'@id': '/and/[/s/activity/omcs/vote/,/s/contributor/omcs/scarfboy/]',\n",
       "   '@type': 'Source',\n",
       "   'activity': '/s/activity/omcs/vote',\n",
       "   'contributor': '/s/contributor/omcs/scarfboy'},\n",
       "  {'@id': '/and/[/s/activity/omcs/vote/,/s/contributor/omcs/seanbrockest/]',\n",
       "   '@type': 'Source',\n",
       "   'activity': '/s/activity/omcs/vote',\n",
       "   'contributor': '/s/contributor/omcs/seanbrockest'},\n",
       "  {'@id': '/and/[/s/activity/omcs/vote/,/s/contributor/omcs/skelly78/]',\n",
       "   '@type': 'Source',\n",
       "   'activity': '/s/activity/omcs/vote',\n",
       "   'contributor': '/s/contributor/omcs/skelly78'},\n",
       "  {'@id': '/and/[/s/activity/omcs/vote/,/s/contributor/omcs/slux/]',\n",
       "   '@type': 'Source',\n",
       "   'activity': '/s/activity/omcs/vote',\n",
       "   'contributor': '/s/contributor/omcs/slux'},\n",
       "  {'@id': '/and/[/s/activity/omcs/vote/,/s/contributor/omcs/smithee/]',\n",
       "   '@type': 'Source',\n",
       "   'activity': '/s/activity/omcs/vote',\n",
       "   'contributor': '/s/contributor/omcs/smithee'},\n",
       "  {'@id': '/and/[/s/activity/omcs/vote/,/s/contributor/omcs/smtango/]',\n",
       "   '@type': 'Source',\n",
       "   'activity': '/s/activity/omcs/vote',\n",
       "   'contributor': '/s/contributor/omcs/smtango'},\n",
       "  {'@id': '/and/[/s/activity/omcs/vote/,/s/contributor/omcs/soesoe/]',\n",
       "   '@type': 'Source',\n",
       "   'activity': '/s/activity/omcs/vote',\n",
       "   'contributor': '/s/contributor/omcs/soesoe'},\n",
       "  {'@id': '/and/[/s/activity/omcs/vote/,/s/contributor/omcs/spa/]',\n",
       "   '@type': 'Source',\n",
       "   'activity': '/s/activity/omcs/vote',\n",
       "   'contributor': '/s/contributor/omcs/spa'},\n",
       "  {'@id': '/and/[/s/activity/omcs/vote/,/s/contributor/omcs/speculativerunner/]',\n",
       "   '@type': 'Source',\n",
       "   'activity': '/s/activity/omcs/vote',\n",
       "   'contributor': '/s/contributor/omcs/speculativerunner'},\n",
       "  {'@id': '/and/[/s/activity/omcs/vote/,/s/contributor/omcs/stormalong13/]',\n",
       "   '@type': 'Source',\n",
       "   'activity': '/s/activity/omcs/vote',\n",
       "   'contributor': '/s/contributor/omcs/stormalong13'},\n",
       "  {'@id': '/and/[/s/activity/omcs/vote/,/s/contributor/omcs/suchow/]',\n",
       "   '@type': 'Source',\n",
       "   'activity': '/s/activity/omcs/vote',\n",
       "   'contributor': '/s/contributor/omcs/suchow'},\n",
       "  {'@id': '/and/[/s/activity/omcs/vote/,/s/contributor/omcs/swgeeker/]',\n",
       "   '@type': 'Source',\n",
       "   'activity': '/s/activity/omcs/vote',\n",
       "   'contributor': '/s/contributor/omcs/swgeeker'},\n",
       "  {'@id': '/and/[/s/activity/omcs/vote/,/s/contributor/omcs/swordfishdata/]',\n",
       "   '@type': 'Source',\n",
       "   'activity': '/s/activity/omcs/vote',\n",
       "   'contributor': '/s/contributor/omcs/swordfishdata'},\n",
       "  {'@id': '/and/[/s/activity/omcs/vote/,/s/contributor/omcs/sybil/]',\n",
       "   '@type': 'Source',\n",
       "   'activity': '/s/activity/omcs/vote',\n",
       "   'contributor': '/s/contributor/omcs/sybil'},\n",
       "  {'@id': '/and/[/s/activity/omcs/vote/,/s/contributor/omcs/tawreos/]',\n",
       "   '@type': 'Source',\n",
       "   'activity': '/s/activity/omcs/vote',\n",
       "   'contributor': '/s/contributor/omcs/tawreos'},\n",
       "  {'@id': '/and/[/s/activity/omcs/vote/,/s/contributor/omcs/tedcoombs/]',\n",
       "   '@type': 'Source',\n",
       "   'activity': '/s/activity/omcs/vote',\n",
       "   'contributor': '/s/contributor/omcs/tedcoombs'},\n",
       "  {'@id': '/and/[/s/activity/omcs/vote/,/s/contributor/omcs/trevorm/]',\n",
       "   '@type': 'Source',\n",
       "   'activity': '/s/activity/omcs/vote',\n",
       "   'contributor': '/s/contributor/omcs/trevorm'},\n",
       "  {'@id': '/and/[/s/activity/omcs/vote/,/s/contributor/omcs/unreal/]',\n",
       "   '@type': 'Source',\n",
       "   'activity': '/s/activity/omcs/vote',\n",
       "   'contributor': '/s/contributor/omcs/unreal'},\n",
       "  {'@id': '/and/[/s/activity/omcs/vote/,/s/contributor/omcs/uskudarli/]',\n",
       "   '@type': 'Source',\n",
       "   'activity': '/s/activity/omcs/vote',\n",
       "   'contributor': '/s/contributor/omcs/uskudarli'},\n",
       "  {'@id': '/and/[/s/activity/omcs/vote/,/s/contributor/omcs/vincebr/]',\n",
       "   '@type': 'Source',\n",
       "   'activity': '/s/activity/omcs/vote',\n",
       "   'contributor': '/s/contributor/omcs/vincebr'},\n",
       "  {'@id': '/and/[/s/activity/omcs/vote/,/s/contributor/omcs/whitten/]',\n",
       "   '@type': 'Source',\n",
       "   'activity': '/s/activity/omcs/vote',\n",
       "   'contributor': '/s/contributor/omcs/whitten'},\n",
       "  {'@id': '/and/[/s/activity/omcs/vote/,/s/contributor/omcs/yahma/]',\n",
       "   '@type': 'Source',\n",
       "   'activity': '/s/activity/omcs/vote',\n",
       "   'contributor': '/s/contributor/omcs/yahma'}],\n",
       " 'start': {'@id': '/c/en/yo_yo',\n",
       "  '@type': 'Node',\n",
       "  'label': 'yo yo',\n",
       "  'language': 'en',\n",
       "  'term': '/c/en/yo_yo'},\n",
       " 'surfaceText': '[[yo yo]] is [[a toy]]',\n",
       " 'weight': 19.390719429665317}"
      ]
     },
     "execution_count": 107,
     "metadata": {},
     "output_type": "execute_result"
    }
   ],
   "source": [
    "obj['edges'][0]"
   ]
  },
  {
   "cell_type": "code",
   "execution_count": 108,
   "metadata": {},
   "outputs": [
    {
     "data": {
      "text/plain": [
       "[['IsA', 'yo yo', 'a toy', 19.390719429665317],\n",
       " ['AtLocation', 'a shark', 'any ocean', 11.313708498984761],\n",
       " ['IsA', 'A saw', 'a tool', 10.583005244258363],\n",
       " ['CapableOf', 'alcohol', 'cloud your judgement', 10.0],\n",
       " ['HasProperty', 'apple', 'red', 9.591663046625438],\n",
       " ['IsA', 'rain', 'water', 9.38083151964686],\n",
       " ['UsedFor', 'a telephone', 'communicate', 9.38083151964686],\n",
       " ['IsA', 'Corn', 'a vegetable', 8.94427190999916],\n",
       " ['HasA', 'Birds', 'feathers', 8.717797887081348],\n",
       " ['IsA', 'a doll', 'a toy', 8.48528137423857],\n",
       " ['UsedFor', 'water', 'drink', 8.246211251235321],\n",
       " ['IsA', 'a goldfish', 'a carp', 8.0],\n",
       " ['IsA', 'Canada', 'a country', 7.483314773547882],\n",
       " ['HasProperty', 'A circle', 'round', 7.483314773547882],\n",
       " ['AtLocation', 'a toilet', 'a bathroom', 7.211102550927979],\n",
       " ['IsA', 'China', 'country', 7.211102550927979],\n",
       " ['IsA', 'love', 'a feeling', 7.211102550927979],\n",
       " ['IsA', 'A guitare', 'an instrument', 6.928203230275509],\n",
       " ['HasA', 'Trees', 'leaves', 6.928203230275509],\n",
       " ['IsA', 'Blue', 'a color', 6.928203230275509]]"
      ]
     },
     "execution_count": 108,
     "metadata": {},
     "output_type": "execute_result"
    }
   ],
   "source": [
    "lineslist = []\n",
    "for i in range(len(obj['edges'])):\n",
    "    ls = []\n",
    "    ls.append(obj['edges'][i]['rel']['label'])\n",
    "    ls.append(obj['edges'][i]['start']['label'])\n",
    "    ls.append(obj['edges'][i]['end']['label'])\n",
    "    ls.append(obj['edges'][i]['weight'])\n",
    "    lineslist.append(ls)\n",
    "    \n",
    "lineslist"
   ]
  },
  {
   "cell_type": "markdown",
   "metadata": {},
   "source": [
    "### /s/activity"
   ]
  },
  {
   "cell_type": "code",
   "execution_count": 110,
   "metadata": {},
   "outputs": [
    {
     "data": {
      "text/plain": [
       "20"
      ]
     },
     "execution_count": 110,
     "metadata": {},
     "output_type": "execute_result"
    }
   ],
   "source": [
    "obj = requests.get('http://api.conceptnet.io/s/activity/omcs/omcs1_possibly_free_text').json()\n",
    "len(obj['edges'])"
   ]
  },
  {
   "cell_type": "code",
   "execution_count": 111,
   "metadata": {},
   "outputs": [
    {
     "data": {
      "text/plain": [
       "{'@id': '/a/[/r/AtLocation/,/c/en/shark/,/c/en/ocean/]',\n",
       " '@type': 'Edge',\n",
       " 'dataset': '/d/conceptnet/4/en',\n",
       " 'end': {'@id': '/c/en/ocean',\n",
       "  '@type': 'Node',\n",
       "  'label': 'any ocean',\n",
       "  'language': 'en',\n",
       "  'term': '/c/en/ocean'},\n",
       " 'license': 'cc:by/4.0',\n",
       " 'rel': {'@id': '/r/AtLocation', '@type': 'Relation', 'label': 'AtLocation'},\n",
       " 'sources': [{'@id': '/and/[/s/activity/omcs/omcs1_possibly_free_text/,/s/contributor/omcs/diveden/]',\n",
       "   '@type': 'Source',\n",
       "   'activity': '/s/activity/omcs/omcs1_possibly_free_text',\n",
       "   'contributor': '/s/contributor/omcs/diveden'},\n",
       "  {'@id': '/and/[/s/activity/omcs/vote/,/s/contributor/omcs/alexi/]',\n",
       "   '@type': 'Source',\n",
       "   'activity': '/s/activity/omcs/vote',\n",
       "   'contributor': '/s/contributor/omcs/alexi'},\n",
       "  {'@id': '/and/[/s/activity/omcs/vote/,/s/contributor/omcs/andrec/]',\n",
       "   '@type': 'Source',\n",
       "   'activity': '/s/activity/omcs/vote',\n",
       "   'contributor': '/s/contributor/omcs/andrec'},\n",
       "  {'@id': '/and/[/s/activity/omcs/vote/,/s/contributor/omcs/annedog/]',\n",
       "   '@type': 'Source',\n",
       "   'activity': '/s/activity/omcs/vote',\n",
       "   'contributor': '/s/contributor/omcs/annedog'},\n",
       "  {'@id': '/and/[/s/activity/omcs/vote/,/s/contributor/omcs/astronut/]',\n",
       "   '@type': 'Source',\n",
       "   'activity': '/s/activity/omcs/vote',\n",
       "   'contributor': '/s/contributor/omcs/astronut'},\n",
       "  {'@id': '/and/[/s/activity/omcs/vote/,/s/contributor/omcs/bobdhaliwal/]',\n",
       "   '@type': 'Source',\n",
       "   'activity': '/s/activity/omcs/vote',\n",
       "   'contributor': '/s/contributor/omcs/bobdhaliwal'},\n",
       "  {'@id': '/and/[/s/activity/omcs/vote/,/s/contributor/omcs/browni/]',\n",
       "   '@type': 'Source',\n",
       "   'activity': '/s/activity/omcs/vote',\n",
       "   'contributor': '/s/contributor/omcs/browni'},\n",
       "  {'@id': '/and/[/s/activity/omcs/vote/,/s/contributor/omcs/colagor/]',\n",
       "   '@type': 'Source',\n",
       "   'activity': '/s/activity/omcs/vote',\n",
       "   'contributor': '/s/contributor/omcs/colagor'},\n",
       "  {'@id': '/and/[/s/activity/omcs/vote/,/s/contributor/omcs/dev/]',\n",
       "   '@type': 'Source',\n",
       "   'activity': '/s/activity/omcs/vote',\n",
       "   'contributor': '/s/contributor/omcs/dev'},\n",
       "  {'@id': '/and/[/s/activity/omcs/vote/,/s/contributor/omcs/dievs/]',\n",
       "   '@type': 'Source',\n",
       "   'activity': '/s/activity/omcs/vote',\n",
       "   'contributor': '/s/contributor/omcs/dievs'},\n",
       "  {'@id': '/and/[/s/activity/omcs/vote/,/s/contributor/omcs/djuber/]',\n",
       "   '@type': 'Source',\n",
       "   'activity': '/s/activity/omcs/vote',\n",
       "   'contributor': '/s/contributor/omcs/djuber'},\n",
       "  {'@id': '/and/[/s/activity/omcs/vote/,/s/contributor/omcs/dmiddendorf/]',\n",
       "   '@type': 'Source',\n",
       "   'activity': '/s/activity/omcs/vote',\n",
       "   'contributor': '/s/contributor/omcs/dmiddendorf'},\n",
       "  {'@id': '/and/[/s/activity/omcs/vote/,/s/contributor/omcs/eturner/]',\n",
       "   '@type': 'Source',\n",
       "   'activity': '/s/activity/omcs/vote',\n",
       "   'contributor': '/s/contributor/omcs/eturner'},\n",
       "  {'@id': '/and/[/s/activity/omcs/vote/,/s/contributor/omcs/guru1/]',\n",
       "   '@type': 'Source',\n",
       "   'activity': '/s/activity/omcs/vote',\n",
       "   'contributor': '/s/contributor/omcs/guru1'},\n",
       "  {'@id': '/and/[/s/activity/omcs/vote/,/s/contributor/omcs/jbbdude/]',\n",
       "   '@type': 'Source',\n",
       "   'activity': '/s/activity/omcs/vote',\n",
       "   'contributor': '/s/contributor/omcs/jbbdude'},\n",
       "  {'@id': '/and/[/s/activity/omcs/vote/,/s/contributor/omcs/jkasunic/]',\n",
       "   '@type': 'Source',\n",
       "   'activity': '/s/activity/omcs/vote',\n",
       "   'contributor': '/s/contributor/omcs/jkasunic'},\n",
       "  {'@id': '/and/[/s/activity/omcs/vote/,/s/contributor/omcs/kingjo/]',\n",
       "   '@type': 'Source',\n",
       "   'activity': '/s/activity/omcs/vote',\n",
       "   'contributor': '/s/contributor/omcs/kingjo'},\n",
       "  {'@id': '/and/[/s/activity/omcs/vote/,/s/contributor/omcs/klynn/]',\n",
       "   '@type': 'Source',\n",
       "   'activity': '/s/activity/omcs/vote',\n",
       "   'contributor': '/s/contributor/omcs/klynn'},\n",
       "  {'@id': '/and/[/s/activity/omcs/vote/,/s/contributor/omcs/mprk/]',\n",
       "   '@type': 'Source',\n",
       "   'activity': '/s/activity/omcs/vote',\n",
       "   'contributor': '/s/contributor/omcs/mprk'},\n",
       "  {'@id': '/and/[/s/activity/omcs/vote/,/s/contributor/omcs/paulmcq/]',\n",
       "   '@type': 'Source',\n",
       "   'activity': '/s/activity/omcs/vote',\n",
       "   'contributor': '/s/contributor/omcs/paulmcq'},\n",
       "  {'@id': '/and/[/s/activity/omcs/vote/,/s/contributor/omcs/peeonyou/]',\n",
       "   '@type': 'Source',\n",
       "   'activity': '/s/activity/omcs/vote',\n",
       "   'contributor': '/s/contributor/omcs/peeonyou'},\n",
       "  {'@id': '/and/[/s/activity/omcs/vote/,/s/contributor/omcs/pinghead/]',\n",
       "   '@type': 'Source',\n",
       "   'activity': '/s/activity/omcs/vote',\n",
       "   'contributor': '/s/contributor/omcs/pinghead'},\n",
       "  {'@id': '/and/[/s/activity/omcs/vote/,/s/contributor/omcs/polymatrix/]',\n",
       "   '@type': 'Source',\n",
       "   'activity': '/s/activity/omcs/vote',\n",
       "   'contributor': '/s/contributor/omcs/polymatrix'},\n",
       "  {'@id': '/and/[/s/activity/omcs/vote/,/s/contributor/omcs/pujo/]',\n",
       "   '@type': 'Source',\n",
       "   'activity': '/s/activity/omcs/vote',\n",
       "   'contributor': '/s/contributor/omcs/pujo'},\n",
       "  {'@id': '/and/[/s/activity/omcs/vote/,/s/contributor/omcs/richard_h0lt/]',\n",
       "   '@type': 'Source',\n",
       "   'activity': '/s/activity/omcs/vote',\n",
       "   'contributor': '/s/contributor/omcs/richard_h0lt'},\n",
       "  {'@id': '/and/[/s/activity/omcs/vote/,/s/contributor/omcs/robfarrell3000/]',\n",
       "   '@type': 'Source',\n",
       "   'activity': '/s/activity/omcs/vote',\n",
       "   'contributor': '/s/contributor/omcs/robfarrell3000'},\n",
       "  {'@id': '/and/[/s/activity/omcs/vote/,/s/contributor/omcs/skissane/]',\n",
       "   '@type': 'Source',\n",
       "   'activity': '/s/activity/omcs/vote',\n",
       "   'contributor': '/s/contributor/omcs/skissane'},\n",
       "  {'@id': '/and/[/s/activity/omcs/vote/,/s/contributor/omcs/skoerber/]',\n",
       "   '@type': 'Source',\n",
       "   'activity': '/s/activity/omcs/vote',\n",
       "   'contributor': '/s/contributor/omcs/skoerber'},\n",
       "  {'@id': '/and/[/s/activity/omcs/vote/,/s/contributor/omcs/tmorrow/]',\n",
       "   '@type': 'Source',\n",
       "   'activity': '/s/activity/omcs/vote',\n",
       "   'contributor': '/s/contributor/omcs/tmorrow'},\n",
       "  {'@id': '/and/[/s/activity/omcs/vote/,/s/contributor/omcs/vincebr/]',\n",
       "   '@type': 'Source',\n",
       "   'activity': '/s/activity/omcs/vote',\n",
       "   'contributor': '/s/contributor/omcs/vincebr'},\n",
       "  {'@id': '/and/[/s/activity/omcs/vote/,/s/contributor/omcs/whiterabbit/]',\n",
       "   '@type': 'Source',\n",
       "   'activity': '/s/activity/omcs/vote',\n",
       "   'contributor': '/s/contributor/omcs/whiterabbit'},\n",
       "  {'@id': '/and/[/s/activity/omcs/vote/,/s/contributor/omcs/word/]',\n",
       "   '@type': 'Source',\n",
       "   'activity': '/s/activity/omcs/vote',\n",
       "   'contributor': '/s/contributor/omcs/word'},\n",
       "  {'@id': '/and/[/s/activity/omcs/vote/,/s/contributor/omcs/yahma/]',\n",
       "   '@type': 'Source',\n",
       "   'activity': '/s/activity/omcs/vote',\n",
       "   'contributor': '/s/contributor/omcs/yahma'}],\n",
       " 'start': {'@id': '/c/en/shark',\n",
       "  '@type': 'Node',\n",
       "  'label': 'a shark',\n",
       "  'language': 'en',\n",
       "  'term': '/c/en/shark'},\n",
       " 'surfaceText': 'You are likely to find [[a shark]] in [[any ocean]]',\n",
       " 'weight': 11.313708498984761}"
      ]
     },
     "execution_count": 111,
     "metadata": {},
     "output_type": "execute_result"
    }
   ],
   "source": [
    "obj['edges'][0]"
   ]
  },
  {
   "cell_type": "code",
   "execution_count": 112,
   "metadata": {},
   "outputs": [
    {
     "data": {
      "text/plain": [
       "[['AtLocation', 'a shark', 'any ocean', 11.313708498984761],\n",
       " ['IsA', 'football', 'game', 9.16515138991168],\n",
       " ['HasProperty', 'Some cars', 'expensive', 7.745966692414834],\n",
       " ['HasProperty', 'A circle', 'round', 7.483314773547882],\n",
       " ['CapableOf', 'dealer', 'deal cards', 7.483314773547882],\n",
       " ['AtLocation', 'your phone', 'a desk', 7.483314773547882],\n",
       " ['IsA', 'restaurants', 'places', 7.483314773547882],\n",
       " ['IsA', 'Air', 'a gas', 7.211102550927979],\n",
       " ['PartOf', 'a book', 'library', 7.211102550927979],\n",
       " ['HasProperty', 'apple', 'green', 7.211102550927979],\n",
       " ['AtLocation', 'food', 'the kitchen', 7.211102550927979],\n",
       " ['IsA', 'a lion', 'an animal', 7.211102550927979],\n",
       " ['HasPrerequisite', 'sate your hunger', 'eat', 6.928203230275509],\n",
       " ['UsedFor', 'wine', 'Drinking', 6.928203230275509],\n",
       " ['AtLocation', 'water', 'a waterfall', 6.6332495807108],\n",
       " ['IsA', 'a high rise', 'building', 6.6332495807108],\n",
       " ['IsA', 'marijuana', 'a drug', 6.6332495807108],\n",
       " ['AtLocation', 'a bicycle', 'the street', 6.6332495807108],\n",
       " ['UsedFor', 'a kettle', 'boil water', 6.6332495807108],\n",
       " ['IsA', 'France', 'country', 6.6332495807108]]"
      ]
     },
     "execution_count": 112,
     "metadata": {},
     "output_type": "execute_result"
    }
   ],
   "source": [
    "lineslist = []\n",
    "for i in range(len(obj['edges'])):\n",
    "    ls = []\n",
    "    ls.append(obj['edges'][i]['rel']['label'])\n",
    "    ls.append(obj['edges'][i]['start']['label'])\n",
    "    ls.append(obj['edges'][i]['end']['label'])\n",
    "    ls.append(obj['edges'][i]['weight'])\n",
    "    lineslist.append(ls)\n",
    "    \n",
    "lineslist"
   ]
  },
  {
   "cell_type": "markdown",
   "metadata": {},
   "source": [
    "# 查询链接"
   ]
  },
  {
   "cell_type": "markdown",
   "metadata": {},
   "source": [
    "To see all relations that connect \"dog\" and \"bark\""
   ]
  },
  {
   "cell_type": "code",
   "execution_count": 122,
   "metadata": {},
   "outputs": [
    {
     "data": {
      "text/plain": [
       "5"
      ]
     },
     "execution_count": 122,
     "metadata": {},
     "output_type": "execute_result"
    }
   ],
   "source": [
    "obj = requests.get('http://api.conceptnet.io/query?node=/c/en/dog&other=/c/en/bark').json()\n",
    "len(obj['edges'])"
   ]
  },
  {
   "cell_type": "code",
   "execution_count": 123,
   "metadata": {},
   "outputs": [
    {
     "data": {
      "text/plain": [
       "{'@id': '/a/[/r/CapableOf/,/c/en/dog/,/c/en/bark/]',\n",
       " '@type': 'Edge',\n",
       " 'dataset': '/d/conceptnet/4/en',\n",
       " 'end': {'@id': '/c/en/bark',\n",
       "  '@type': 'Node',\n",
       "  'label': 'bark',\n",
       "  'language': 'en',\n",
       "  'term': '/c/en/bark'},\n",
       " 'license': 'cc:by/4.0',\n",
       " 'rel': {'@id': '/r/CapableOf', '@type': 'Relation', 'label': 'CapableOf'},\n",
       " 'sources': [{'@id': '/and/[/s/activity/omcs/commons2_template/,/s/contributor/omcs/reine/]',\n",
       "   '@type': 'Source',\n",
       "   'activity': '/s/activity/omcs/commons2_template',\n",
       "   'contributor': '/s/contributor/omcs/reine'},\n",
       "  {'@id': '/and/[/s/activity/omcs/commons2_template/,/s/contributor/omcs/taek42/]',\n",
       "   '@type': 'Source',\n",
       "   'activity': '/s/activity/omcs/commons2_template',\n",
       "   'contributor': '/s/contributor/omcs/taek42'},\n",
       "  {'@id': '/and/[/s/activity/omcs/commons2_template/,/s/contributor/omcs/weboide/]',\n",
       "   '@type': 'Source',\n",
       "   'activity': '/s/activity/omcs/commons2_template',\n",
       "   'contributor': '/s/contributor/omcs/weboide'},\n",
       "  {'@id': '/and/[/s/activity/omcs/omcs1_possibly_free_text/,/s/contributor/omcs/phraughy/]',\n",
       "   '@type': 'Source',\n",
       "   'activity': '/s/activity/omcs/omcs1_possibly_free_text',\n",
       "   'contributor': '/s/contributor/omcs/phraughy'},\n",
       "  {'@id': '/and/[/s/activity/omcs/omcs1_possibly_free_text/,/s/contributor/omcs/vasile/]',\n",
       "   '@type': 'Source',\n",
       "   'activity': '/s/activity/omcs/omcs1_possibly_free_text',\n",
       "   'contributor': '/s/contributor/omcs/vasile'},\n",
       "  {'@id': '/and/[/s/activity/omcs/template/,/s/contributor/omcs/azidek/]',\n",
       "   '@type': 'Source',\n",
       "   'activity': '/s/activity/omcs/template',\n",
       "   'contributor': '/s/contributor/omcs/azidek'},\n",
       "  {'@id': '/and/[/s/activity/omcs/vote/,/s/contributor/omcs/antalvdb/]',\n",
       "   '@type': 'Source',\n",
       "   'activity': '/s/activity/omcs/vote',\n",
       "   'contributor': '/s/contributor/omcs/antalvdb'},\n",
       "  {'@id': '/and/[/s/activity/omcs/vote/,/s/contributor/omcs/asmodeane/]',\n",
       "   '@type': 'Source',\n",
       "   'activity': '/s/activity/omcs/vote',\n",
       "   'contributor': '/s/contributor/omcs/asmodeane'},\n",
       "  {'@id': '/and/[/s/activity/omcs/vote/,/s/contributor/omcs/aydogdu/]',\n",
       "   '@type': 'Source',\n",
       "   'activity': '/s/activity/omcs/vote',\n",
       "   'contributor': '/s/contributor/omcs/aydogdu'},\n",
       "  {'@id': '/and/[/s/activity/omcs/vote/,/s/contributor/omcs/beccam/]',\n",
       "   '@type': 'Source',\n",
       "   'activity': '/s/activity/omcs/vote',\n",
       "   'contributor': '/s/contributor/omcs/beccam'},\n",
       "  {'@id': '/and/[/s/activity/omcs/vote/,/s/contributor/omcs/browni/]',\n",
       "   '@type': 'Source',\n",
       "   'activity': '/s/activity/omcs/vote',\n",
       "   'contributor': '/s/contributor/omcs/browni'},\n",
       "  {'@id': '/and/[/s/activity/omcs/vote/,/s/contributor/omcs/ccxiii/]',\n",
       "   '@type': 'Source',\n",
       "   'activity': '/s/activity/omcs/vote',\n",
       "   'contributor': '/s/contributor/omcs/ccxiii'},\n",
       "  {'@id': '/and/[/s/activity/omcs/vote/,/s/contributor/omcs/chibong/]',\n",
       "   '@type': 'Source',\n",
       "   'activity': '/s/activity/omcs/vote',\n",
       "   'contributor': '/s/contributor/omcs/chibong'},\n",
       "  {'@id': '/and/[/s/activity/omcs/vote/,/s/contributor/omcs/colagor/]',\n",
       "   '@type': 'Source',\n",
       "   'activity': '/s/activity/omcs/vote',\n",
       "   'contributor': '/s/contributor/omcs/colagor'},\n",
       "  {'@id': '/and/[/s/activity/omcs/vote/,/s/contributor/omcs/d/]',\n",
       "   '@type': 'Source',\n",
       "   'activity': '/s/activity/omcs/vote',\n",
       "   'contributor': '/s/contributor/omcs/d'},\n",
       "  {'@id': '/and/[/s/activity/omcs/vote/,/s/contributor/omcs/desalvionjr/]',\n",
       "   '@type': 'Source',\n",
       "   'activity': '/s/activity/omcs/vote',\n",
       "   'contributor': '/s/contributor/omcs/desalvionjr'},\n",
       "  {'@id': '/and/[/s/activity/omcs/vote/,/s/contributor/omcs/donwulff/]',\n",
       "   '@type': 'Source',\n",
       "   'activity': '/s/activity/omcs/vote',\n",
       "   'contributor': '/s/contributor/omcs/donwulff'},\n",
       "  {'@id': '/and/[/s/activity/omcs/vote/,/s/contributor/omcs/dragonjools/]',\n",
       "   '@type': 'Source',\n",
       "   'activity': '/s/activity/omcs/vote',\n",
       "   'contributor': '/s/contributor/omcs/dragonjools'},\n",
       "  {'@id': '/and/[/s/activity/omcs/vote/,/s/contributor/omcs/edman274/]',\n",
       "   '@type': 'Source',\n",
       "   'activity': '/s/activity/omcs/vote',\n",
       "   'contributor': '/s/contributor/omcs/edman274'},\n",
       "  {'@id': '/and/[/s/activity/omcs/vote/,/s/contributor/omcs/elsten/]',\n",
       "   '@type': 'Source',\n",
       "   'activity': '/s/activity/omcs/vote',\n",
       "   'contributor': '/s/contributor/omcs/elsten'},\n",
       "  {'@id': '/and/[/s/activity/omcs/vote/,/s/contributor/omcs/eturner/]',\n",
       "   '@type': 'Source',\n",
       "   'activity': '/s/activity/omcs/vote',\n",
       "   'contributor': '/s/contributor/omcs/eturner'},\n",
       "  {'@id': '/and/[/s/activity/omcs/vote/,/s/contributor/omcs/federicomelosi/]',\n",
       "   '@type': 'Source',\n",
       "   'activity': '/s/activity/omcs/vote',\n",
       "   'contributor': '/s/contributor/omcs/federicomelosi'},\n",
       "  {'@id': '/and/[/s/activity/omcs/vote/,/s/contributor/omcs/goldenthroat/]',\n",
       "   '@type': 'Source',\n",
       "   'activity': '/s/activity/omcs/vote',\n",
       "   'contributor': '/s/contributor/omcs/goldenthroat'},\n",
       "  {'@id': '/and/[/s/activity/omcs/vote/,/s/contributor/omcs/gomibako/]',\n",
       "   '@type': 'Source',\n",
       "   'activity': '/s/activity/omcs/vote',\n",
       "   'contributor': '/s/contributor/omcs/gomibako'},\n",
       "  {'@id': '/and/[/s/activity/omcs/vote/,/s/contributor/omcs/guru1/]',\n",
       "   '@type': 'Source',\n",
       "   'activity': '/s/activity/omcs/vote',\n",
       "   'contributor': '/s/contributor/omcs/guru1'},\n",
       "  {'@id': '/and/[/s/activity/omcs/vote/,/s/contributor/omcs/hongster/]',\n",
       "   '@type': 'Source',\n",
       "   'activity': '/s/activity/omcs/vote',\n",
       "   'contributor': '/s/contributor/omcs/hongster'},\n",
       "  {'@id': '/and/[/s/activity/omcs/vote/,/s/contributor/omcs/irgsmirx/]',\n",
       "   '@type': 'Source',\n",
       "   'activity': '/s/activity/omcs/vote',\n",
       "   'contributor': '/s/contributor/omcs/irgsmirx'},\n",
       "  {'@id': '/and/[/s/activity/omcs/vote/,/s/contributor/omcs/jalonso/]',\n",
       "   '@type': 'Source',\n",
       "   'activity': '/s/activity/omcs/vote',\n",
       "   'contributor': '/s/contributor/omcs/jalonso'},\n",
       "  {'@id': '/and/[/s/activity/omcs/vote/,/s/contributor/omcs/jasongross/]',\n",
       "   '@type': 'Source',\n",
       "   'activity': '/s/activity/omcs/vote',\n",
       "   'contributor': '/s/contributor/omcs/jasongross'},\n",
       "  {'@id': '/and/[/s/activity/omcs/vote/,/s/contributor/omcs/jbbdude/]',\n",
       "   '@type': 'Source',\n",
       "   'activity': '/s/activity/omcs/vote',\n",
       "   'contributor': '/s/contributor/omcs/jbbdude'},\n",
       "  {'@id': '/and/[/s/activity/omcs/vote/,/s/contributor/omcs/jbh5/]',\n",
       "   '@type': 'Source',\n",
       "   'activity': '/s/activity/omcs/vote',\n",
       "   'contributor': '/s/contributor/omcs/jbh5'},\n",
       "  {'@id': '/and/[/s/activity/omcs/vote/,/s/contributor/omcs/jd204c/]',\n",
       "   '@type': 'Source',\n",
       "   'activity': '/s/activity/omcs/vote',\n",
       "   'contributor': '/s/contributor/omcs/jd204c'},\n",
       "  {'@id': '/and/[/s/activity/omcs/vote/,/s/contributor/omcs/jeorge/]',\n",
       "   '@type': 'Source',\n",
       "   'activity': '/s/activity/omcs/vote',\n",
       "   'contributor': '/s/contributor/omcs/jeorge'},\n",
       "  {'@id': '/and/[/s/activity/omcs/vote/,/s/contributor/omcs/jkeats3/]',\n",
       "   '@type': 'Source',\n",
       "   'activity': '/s/activity/omcs/vote',\n",
       "   'contributor': '/s/contributor/omcs/jkeats3'},\n",
       "  {'@id': '/and/[/s/activity/omcs/vote/,/s/contributor/omcs/johlton/]',\n",
       "   '@type': 'Source',\n",
       "   'activity': '/s/activity/omcs/vote',\n",
       "   'contributor': '/s/contributor/omcs/johlton'},\n",
       "  {'@id': '/and/[/s/activity/omcs/vote/,/s/contributor/omcs/kollo/]',\n",
       "   '@type': 'Source',\n",
       "   'activity': '/s/activity/omcs/vote',\n",
       "   'contributor': '/s/contributor/omcs/kollo'},\n",
       "  {'@id': '/and/[/s/activity/omcs/vote/,/s/contributor/omcs/kurt_woloch/]',\n",
       "   '@type': 'Source',\n",
       "   'activity': '/s/activity/omcs/vote',\n",
       "   'contributor': '/s/contributor/omcs/kurt_woloch'},\n",
       "  {'@id': '/and/[/s/activity/omcs/vote/,/s/contributor/omcs/manwalklikebear/]',\n",
       "   '@type': 'Source',\n",
       "   'activity': '/s/activity/omcs/vote',\n",
       "   'contributor': '/s/contributor/omcs/manwalklikebear'},\n",
       "  {'@id': '/and/[/s/activity/omcs/vote/,/s/contributor/omcs/mark/]',\n",
       "   '@type': 'Source',\n",
       "   'activity': '/s/activity/omcs/vote',\n",
       "   'contributor': '/s/contributor/omcs/mark'},\n",
       "  {'@id': '/and/[/s/activity/omcs/vote/,/s/contributor/omcs/markp/]',\n",
       "   '@type': 'Source',\n",
       "   'activity': '/s/activity/omcs/vote',\n",
       "   'contributor': '/s/contributor/omcs/markp'},\n",
       "  {'@id': '/and/[/s/activity/omcs/vote/,/s/contributor/omcs/mcduarte2000/]',\n",
       "   '@type': 'Source',\n",
       "   'activity': '/s/activity/omcs/vote',\n",
       "   'contributor': '/s/contributor/omcs/mcduarte2000'},\n",
       "  {'@id': '/and/[/s/activity/omcs/vote/,/s/contributor/omcs/mmm4/]',\n",
       "   '@type': 'Source',\n",
       "   'activity': '/s/activity/omcs/vote',\n",
       "   'contributor': '/s/contributor/omcs/mmm4'},\n",
       "  {'@id': '/and/[/s/activity/omcs/vote/,/s/contributor/omcs/mprk/]',\n",
       "   '@type': 'Source',\n",
       "   'activity': '/s/activity/omcs/vote',\n",
       "   'contributor': '/s/contributor/omcs/mprk'},\n",
       "  {'@id': '/and/[/s/activity/omcs/vote/,/s/contributor/omcs/nk/]',\n",
       "   '@type': 'Source',\n",
       "   'activity': '/s/activity/omcs/vote',\n",
       "   'contributor': '/s/contributor/omcs/nk'},\n",
       "  {'@id': '/and/[/s/activity/omcs/vote/,/s/contributor/omcs/nulll/]',\n",
       "   '@type': 'Source',\n",
       "   'activity': '/s/activity/omcs/vote',\n",
       "   'contributor': '/s/contributor/omcs/nulll'},\n",
       "  {'@id': '/and/[/s/activity/omcs/vote/,/s/contributor/omcs/phraughy/]',\n",
       "   '@type': 'Source',\n",
       "   'activity': '/s/activity/omcs/vote',\n",
       "   'contributor': '/s/contributor/omcs/phraughy'},\n",
       "  {'@id': '/and/[/s/activity/omcs/vote/,/s/contributor/omcs/pitchou369/]',\n",
       "   '@type': 'Source',\n",
       "   'activity': '/s/activity/omcs/vote',\n",
       "   'contributor': '/s/contributor/omcs/pitchou369'},\n",
       "  {'@id': '/and/[/s/activity/omcs/vote/,/s/contributor/omcs/polymatrix/]',\n",
       "   '@type': 'Source',\n",
       "   'activity': '/s/activity/omcs/vote',\n",
       "   'contributor': '/s/contributor/omcs/polymatrix'},\n",
       "  {'@id': '/and/[/s/activity/omcs/vote/,/s/contributor/omcs/regs22/]',\n",
       "   '@type': 'Source',\n",
       "   'activity': '/s/activity/omcs/vote',\n",
       "   'contributor': '/s/contributor/omcs/regs22'},\n",
       "  {'@id': '/and/[/s/activity/omcs/vote/,/s/contributor/omcs/reine/]',\n",
       "   '@type': 'Source',\n",
       "   'activity': '/s/activity/omcs/vote',\n",
       "   'contributor': '/s/contributor/omcs/reine'},\n",
       "  {'@id': '/and/[/s/activity/omcs/vote/,/s/contributor/omcs/richard_h0lt/]',\n",
       "   '@type': 'Source',\n",
       "   'activity': '/s/activity/omcs/vote',\n",
       "   'contributor': '/s/contributor/omcs/richard_h0lt'},\n",
       "  {'@id': '/and/[/s/activity/omcs/vote/,/s/contributor/omcs/sandos/]',\n",
       "   '@type': 'Source',\n",
       "   'activity': '/s/activity/omcs/vote',\n",
       "   'contributor': '/s/contributor/omcs/sandos'},\n",
       "  {'@id': '/and/[/s/activity/omcs/vote/,/s/contributor/omcs/sausage/]',\n",
       "   '@type': 'Source',\n",
       "   'activity': '/s/activity/omcs/vote',\n",
       "   'contributor': '/s/contributor/omcs/sausage'},\n",
       "  {'@id': '/and/[/s/activity/omcs/vote/,/s/contributor/omcs/scarfboy/]',\n",
       "   '@type': 'Source',\n",
       "   'activity': '/s/activity/omcs/vote',\n",
       "   'contributor': '/s/contributor/omcs/scarfboy'},\n",
       "  {'@id': '/and/[/s/activity/omcs/vote/,/s/contributor/omcs/seanbrockest/]',\n",
       "   '@type': 'Source',\n",
       "   'activity': '/s/activity/omcs/vote',\n",
       "   'contributor': '/s/contributor/omcs/seanbrockest'},\n",
       "  {'@id': '/and/[/s/activity/omcs/vote/,/s/contributor/omcs/shercipher/]',\n",
       "   '@type': 'Source',\n",
       "   'activity': '/s/activity/omcs/vote',\n",
       "   'contributor': '/s/contributor/omcs/shercipher'},\n",
       "  {'@id': '/and/[/s/activity/omcs/vote/,/s/contributor/omcs/snellchatfield/]',\n",
       "   '@type': 'Source',\n",
       "   'activity': '/s/activity/omcs/vote',\n",
       "   'contributor': '/s/contributor/omcs/snellchatfield'},\n",
       "  {'@id': '/and/[/s/activity/omcs/vote/,/s/contributor/omcs/speculativerunner/]',\n",
       "   '@type': 'Source',\n",
       "   'activity': '/s/activity/omcs/vote',\n",
       "   'contributor': '/s/contributor/omcs/speculativerunner'},\n",
       "  {'@id': '/and/[/s/activity/omcs/vote/,/s/contributor/omcs/suchow/]',\n",
       "   '@type': 'Source',\n",
       "   'activity': '/s/activity/omcs/vote',\n",
       "   'contributor': '/s/contributor/omcs/suchow'},\n",
       "  {'@id': '/and/[/s/activity/omcs/vote/,/s/contributor/omcs/syroph/]',\n",
       "   '@type': 'Source',\n",
       "   'activity': '/s/activity/omcs/vote',\n",
       "   'contributor': '/s/contributor/omcs/syroph'},\n",
       "  {'@id': '/and/[/s/activity/omcs/vote/,/s/contributor/omcs/themaster/]',\n",
       "   '@type': 'Source',\n",
       "   'activity': '/s/activity/omcs/vote',\n",
       "   'contributor': '/s/contributor/omcs/themaster'},\n",
       "  {'@id': '/and/[/s/activity/omcs/vote/,/s/contributor/omcs/trevorm/]',\n",
       "   '@type': 'Source',\n",
       "   'activity': '/s/activity/omcs/vote',\n",
       "   'contributor': '/s/contributor/omcs/trevorm'},\n",
       "  {'@id': '/and/[/s/activity/omcs/vote/,/s/contributor/omcs/vasile/]',\n",
       "   '@type': 'Source',\n",
       "   'activity': '/s/activity/omcs/vote',\n",
       "   'contributor': '/s/contributor/omcs/vasile'}],\n",
       " 'start': {'@id': '/c/en/dog',\n",
       "  '@type': 'Node',\n",
       "  'label': 'dog',\n",
       "  'language': 'en',\n",
       "  'term': '/c/en/dog'},\n",
       " 'surfaceText': '[[dog]] can [[bark]]',\n",
       " 'weight': 16.0}"
      ]
     },
     "execution_count": 123,
     "metadata": {},
     "output_type": "execute_result"
    }
   ],
   "source": [
    "obj['edges'][0]"
   ]
  },
  {
   "cell_type": "code",
   "execution_count": 124,
   "metadata": {},
   "outputs": [
    {
     "data": {
      "text/plain": [
       "[['CapableOf', 'dog', 'bark', 16.0],\n",
       " ['RelatedTo', 'dog', 'bark', 3.9769334920262374],\n",
       " ['RelatedTo', 'bark', 'dog', 1.6930000000000005],\n",
       " ['HasSubevent', 'are a dog', 'bark', 1.0],\n",
       " ['RelatedTo', 'bark', 'dog', 1.0]]"
      ]
     },
     "execution_count": 124,
     "metadata": {},
     "output_type": "execute_result"
    }
   ],
   "source": [
    "lineslist = []\n",
    "for i in range(len(obj['edges'])):\n",
    "    ls = []\n",
    "    ls.append(obj['edges'][i]['rel']['label'])\n",
    "    ls.append(obj['edges'][i]['start']['label'])\n",
    "    ls.append(obj['edges'][i]['end']['label'])\n",
    "    ls.append(obj['edges'][i]['weight'])\n",
    "    lineslist.append(ls)\n",
    "    \n",
    "lineslist"
   ]
  },
  {
   "cell_type": "markdown",
   "metadata": {},
   "source": [
    "To see what the original OMCS dev team said about ferrets"
   ]
  },
  {
   "cell_type": "code",
   "execution_count": 128,
   "metadata": {},
   "outputs": [
    {
     "data": {
      "text/plain": [
       "50"
      ]
     },
     "execution_count": 128,
     "metadata": {},
     "output_type": "execute_result"
    }
   ],
   "source": [
    "obj = requests.get('http://api.conceptnet.io/query?node=/c/en/book&sources=/s/contributor/omcs/dev').json()\n",
    "len(obj['edges'])"
   ]
  },
  {
   "cell_type": "code",
   "execution_count": 129,
   "metadata": {},
   "outputs": [
    {
     "data": {
      "text/plain": [
       "{'@id': '/a/[/r/RelatedTo/,/c/en/page/,/c/en/book/]',\n",
       " '@type': 'Edge',\n",
       " 'dataset': '/d/verbosity',\n",
       " 'end': {'@id': '/c/en/book',\n",
       "  '@type': 'Node',\n",
       "  'label': 'book',\n",
       "  'language': 'en',\n",
       "  'term': '/c/en/book'},\n",
       " 'license': 'cc:by/4.0',\n",
       " 'rel': {'@id': '/r/RelatedTo', '@type': 'Relation', 'label': 'RelatedTo'},\n",
       " 'sources': [{'@id': '/and/[/s/process/split_words/,/s/resource/verbosity/]',\n",
       "   '@type': 'Source',\n",
       "   'contributor': '/s/resource/verbosity',\n",
       "   'process': '/s/process/split_words'},\n",
       "  {'@id': '/s/resource/verbosity',\n",
       "   '@type': 'Source',\n",
       "   'contributor': '/s/resource/verbosity'}],\n",
       " 'start': {'@id': '/c/en/page',\n",
       "  '@type': 'Node',\n",
       "  'label': 'page',\n",
       "  'language': 'en',\n",
       "  'term': '/c/en/page'},\n",
       " 'surfaceText': '[[page]] is related to [[book]]',\n",
       " 'weight': 10.564658063562682}"
      ]
     },
     "execution_count": 129,
     "metadata": {},
     "output_type": "execute_result"
    }
   ],
   "source": [
    "obj['edges'][0]"
   ]
  },
  {
   "cell_type": "code",
   "execution_count": 130,
   "metadata": {},
   "outputs": [
    {
     "data": {
      "text/plain": [
       "[['RelatedTo', 'page', 'book', 10.564658063562682],\n",
       " ['RelatedTo', 'reading', 'book', 8.380692095525285],\n",
       " ['UsedFor', 'a book', 'learning', 8.246211251235321],\n",
       " ['RelatedTo', 'dictionary', 'book', 8.069944237725561],\n",
       " ['PartOf', 'a book', 'library', 7.211102550927979],\n",
       " ['CreatedBy', 'A book', 'a writer', 6.928203230275509],\n",
       " ['RelatedTo', 'book', 'pages', 6.725473960993382],\n",
       " ['AtLocation', 'a book', 'a classroom', 6.32455532033676],\n",
       " ['RelatedTo', 'book', 'reading', 6.298253726232375],\n",
       " ['RelatedTo', 'story', 'book', 5.589275444992849],\n",
       " ['AtLocation', 'a book', 'the shelf', 5.291502622129181],\n",
       " ['IsA', 'the bible', 'a book', 5.291502622129181],\n",
       " ['PartOf', 'A chapter', 'a book', 5.291502622129181],\n",
       " ['RelatedTo', 'library', 'book', 5.0],\n",
       " ['AtLocation', 'a book', 'a bookshelf', 4.898979485566356],\n",
       " ['RelatedTo', 'cover', 'book', 4.75646927878232],\n",
       " ['RelatedTo', 'paper', 'book', 4.718474329695988],\n",
       " ['HasA', 'a book', 'knowledge', 4.47213595499958],\n",
       " ['MadeOf', 'A book', 'Paper', 4.47213595499958],\n",
       " ['RelatedTo', 'read', 'book', 4.104144246977681],\n",
       " ['AtLocation', 'a book', 'a university', 4.0],\n",
       " ['IsA', 'a novel', 'a book', 4.0],\n",
       " ['IsA', 'a ledger', 'a book', 4.0],\n",
       " ['AtLocation', 'information', 'a book', 4.0],\n",
       " ['HasA', 'A book', 'a cover', 4.0],\n",
       " ['IsA', 'a text', 'a book', 4.0],\n",
       " ['RelatedTo', 'book', 'library', 3.5860842154082215],\n",
       " ['RelatedTo', 'character', 'book', 3.4819534747035323],\n",
       " ['AtLocation', 'a book', 'a store', 3.4641016151377544],\n",
       " ['AtLocation', 'words', 'a book', 3.4641016151377544],\n",
       " ['AtLocation', 'a book', 'your desk', 3.4641016151377544],\n",
       " ['Synonym', 'كِتاب', 'book', 3.4641016151377544],\n",
       " ['HasPrerequisite', 'reading to your children', 'a book', 3.4641016151377544],\n",
       " ['RelatedTo', 'book', 'material', 3.4548516610702693],\n",
       " ['RelatedTo', 'book', 'reading material', 3.3424541881677303],\n",
       " ['RelatedTo', 'book', 'novel', 3.2930229273419886],\n",
       " ['RelatedTo', 'book', 'read', 3.2606747767908404],\n",
       " ['RelatedTo', 'book', 'bound', 3.2594478059941387],\n",
       " ['UsedFor', 'a book', 'entertainment', 2.82842712474619],\n",
       " ['PartOf', 'pages', 'book', 2.82842712474619],\n",
       " ['PartOf', 'page', 'book', 2.82842712474619],\n",
       " ['AtLocation', 'a book', 'a backpack', 2.82842712474619],\n",
       " ['RelatedTo', 'book', 'paper', 2.701851217221259],\n",
       " ['RelatedTo', 'book', 'chapters', 2.4971984302413777],\n",
       " ['RelatedTo', 'writing', 'book', 2.454383833062792],\n",
       " ['RelatedTo', 'novel', 'book', 2.2458851261807666],\n",
       " ['RelatedTo', 'book', 'story', 2.104281350010022],\n",
       " ['RelatedTo', 'book', 'tome', 2.0746083967823905],\n",
       " ['Synonym', 'kirja', 'book', 2.0],\n",
       " ['IsA', 'authority', 'book', 2.0]]"
      ]
     },
     "execution_count": 130,
     "metadata": {},
     "output_type": "execute_result"
    }
   ],
   "source": [
    "lineslist = []\n",
    "for i in range(len(obj['edges'])):\n",
    "    ls = []\n",
    "    ls.append(obj['edges'][i]['rel']['label'])\n",
    "    ls.append(obj['edges'][i]['start']['label'])\n",
    "    ls.append(obj['edges'][i]['end']['label'])\n",
    "    ls.append(obj['edges'][i]['weight'])\n",
    "    lineslist.append(ls)\n",
    "    \n",
    "lineslist"
   ]
  },
  {
   "cell_type": "markdown",
   "metadata": {},
   "source": [
    "# relate关系"
   ]
  },
  {
   "cell_type": "markdown",
   "metadata": {},
   "source": [
    "查询相关词"
   ]
  },
  {
   "cell_type": "code",
   "execution_count": 134,
   "metadata": {},
   "outputs": [],
   "source": [
    "obj = requests.get('http://api.conceptnet.io/related/c/en/cool').json()"
   ]
  },
  {
   "cell_type": "code",
   "execution_count": 135,
   "metadata": {},
   "outputs": [
    {
     "data": {
      "text/plain": [
       "{'@id': '/c/en/cool',\n",
       " 'related': [{'@id': '/c/en/cool', 'weight': 1.0},\n",
       "  {'@id': '/c/ja/涼しげ', 'weight': 0.99},\n",
       "  {'@id': '/c/ru/остужать', 'weight': 0.954},\n",
       "  {'@id': '/c/es/cool', 'weight': 0.938},\n",
       "  {'@id': '/c/nl/cool', 'weight': 0.893},\n",
       "  {'@id': '/c/ru/остудить', 'weight': 0.883},\n",
       "  {'@id': '/c/zh/冷卻', 'weight': 0.881},\n",
       "  {'@id': '/c/it/frescura', 'weight': 0.88},\n",
       "  {'@id': '/c/en/coolish', 'weight': 0.873},\n",
       "  {'@id': '/c/fr/cool', 'weight': 0.869},\n",
       "  {'@id': '/c/zh/凉快', 'weight': 0.868},\n",
       "  {'@id': '/c/pt/arrefecer', 'weight': 0.862},\n",
       "  {'@id': '/c/en/cools', 'weight': 0.858},\n",
       "  {'@id': '/c/ja/清涼', 'weight': 0.857},\n",
       "  {'@id': '/c/zh/凉', 'weight': 0.85},\n",
       "  {'@id': '/c/ja/爽涼', 'weight': 0.85},\n",
       "  {'@id': '/c/nl/koele', 'weight': 0.845},\n",
       "  {'@id': '/c/ja/クール', 'weight': 0.837},\n",
       "  {'@id': '/c/it/freddato', 'weight': 0.836},\n",
       "  {'@id': '/c/nl/verkoelen', 'weight': 0.833},\n",
       "  {'@id': '/c/pt/arrefecido', 'weight': 0.831},\n",
       "  {'@id': '/c/es/enfriar', 'weight': 0.831},\n",
       "  {'@id': '/c/zh/酷斃', 'weight': 0.813},\n",
       "  {'@id': '/c/es/fresquito', 'weight': 0.808},\n",
       "  {'@id': '/c/fr/refroidir', 'weight': 0.807},\n",
       "  {'@id': '/c/nl/koelen', 'weight': 0.804},\n",
       "  {'@id': '/c/es/enfriando', 'weight': 0.803},\n",
       "  {'@id': '/c/it/raffreddarsi', 'weight': 0.795},\n",
       "  {'@id': '/c/pt/esfriar', 'weight': 0.793},\n",
       "  {'@id': '/c/ru/прохладный', 'weight': 0.792},\n",
       "  {'@id': '/c/it/freddare', 'weight': 0.791},\n",
       "  {'@id': '/c/fr/refroidit', 'weight': 0.79},\n",
       "  {'@id': '/c/ja/冷', 'weight': 0.79},\n",
       "  {'@id': '/c/it/fresco', 'weight': 0.786},\n",
       "  {'@id': '/c/fr/refroidis', 'weight': 0.786},\n",
       "  {'@id': '/c/ja/ひんやり', 'weight': 0.785},\n",
       "  {'@id': '/c/pt/porreiro', 'weight': 0.782},\n",
       "  {'@id': '/c/it/sbollire', 'weight': 0.78},\n",
       "  {'@id': '/c/it/raffreddare', 'weight': 0.78},\n",
       "  {'@id': '/c/fr/refroidissent', 'weight': 0.777},\n",
       "  {'@id': '/c/nl/verkoeling', 'weight': 0.776},\n",
       "  {'@id': '/c/zh/酷毙', 'weight': 0.772},\n",
       "  {'@id': '/c/nl/gekoeld', 'weight': 0.769},\n",
       "  {'@id': '/c/de/kühle', 'weight': 0.767},\n",
       "  {'@id': '/c/de/kaltstellen', 'weight': 0.766},\n",
       "  {'@id': '/c/zh/凊', 'weight': 0.765},\n",
       "  {'@id': '/c/ru/охлаждать', 'weight': 0.76},\n",
       "  {'@id': '/c/it/freschi', 'weight': 0.759},\n",
       "  {'@id': '/c/de/coolness', 'weight': 0.759},\n",
       "  {'@id': '/c/fr/coole', 'weight': 0.759}]}"
      ]
     },
     "execution_count": 135,
     "metadata": {},
     "output_type": "execute_result"
    }
   ],
   "source": [
    "obj"
   ]
  },
  {
   "cell_type": "markdown",
   "metadata": {},
   "source": [
    "# 查询相关性分数"
   ]
  },
  {
   "cell_type": "code",
   "execution_count": 137,
   "metadata": {},
   "outputs": [],
   "source": [
    "obj = requests.get('http://api.conceptnet.io/relatedness?node1=/c/en/tea_kettle&node2=/c/en/coffee_pot').json()"
   ]
  },
  {
   "cell_type": "code",
   "execution_count": 138,
   "metadata": {},
   "outputs": [
    {
     "data": {
      "text/plain": [
       "{'@context': ['http://api.conceptnet.io/ld/conceptnet5.7/context.ld.json'],\n",
       " '@id': '/relatedness?node1=/c/en/tea_kettle&node2=/c/en/coffee_pot',\n",
       " 'value': 0.543}"
      ]
     },
     "execution_count": 138,
     "metadata": {},
     "output_type": "execute_result"
    }
   ],
   "source": [
    "obj"
   ]
  },
  {
   "cell_type": "markdown",
   "metadata": {},
   "source": [
    "# 写入文件"
   ]
  },
  {
   "cell_type": "code",
   "execution_count": 45,
   "metadata": {},
   "outputs": [],
   "source": [
    "def write_file(lineslist):\n",
    "    f = open(\"D:\\\\database.txt\", \"w\",encoding='UTF-8')\n",
    "    length = len(lineslist)\n",
    "    for i in range(length):\n",
    "        f.write(lineslist[i][0]+'\\t')\n",
    "        f.write(lineslist[i][1]+'\\t')\n",
    "        f.write(lineslist[i][2]+'\\t')\n",
    "        f.write(str(lineslist[i][3])+'\\n')\n",
    "    f.close()"
   ]
  },
  {
   "cell_type": "code",
   "execution_count": 49,
   "metadata": {},
   "outputs": [],
   "source": [
    "write_file(lineslist)"
   ]
  },
  {
   "cell_type": "code",
   "execution_count": null,
   "metadata": {},
   "outputs": [],
   "source": []
  }
 ],
 "metadata": {
  "kernelspec": {
   "display_name": "Python 3",
   "language": "python",
   "name": "python3"
  },
  "language_info": {
   "codemirror_mode": {
    "name": "ipython",
    "version": 3
   },
   "file_extension": ".py",
   "mimetype": "text/x-python",
   "name": "python",
   "nbconvert_exporter": "python",
   "pygments_lexer": "ipython3",
   "version": "3.6.5"
  },
  "toc": {
   "base_numbering": 1,
   "nav_menu": {},
   "number_sections": true,
   "sideBar": true,
   "skip_h1_title": false,
   "title_cell": "Table of Contents",
   "title_sidebar": "Contents",
   "toc_cell": false,
   "toc_position": {},
   "toc_section_display": true,
   "toc_window_display": false
  }
 },
 "nbformat": 4,
 "nbformat_minor": 2
}
